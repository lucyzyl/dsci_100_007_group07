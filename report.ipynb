{
 "cells": [
  {
   "cell_type": "markdown",
   "id": "2bd9a107-91db-4d76-930a-ed1d353dad4a",
   "metadata": {},
   "source": [
    "# User Knowledge Modeling Data Analysis: Group07 Project Proposal"
   ]
  },
  {
   "cell_type": "markdown",
   "id": "3182fd20-40c8-4089-a19c-ef1bf0d108c8",
   "metadata": {},
   "source": [
    "# Introduction:\n",
    "\n",
    "Electrical Direct Current Machines (DC) are machines that convert electrical energy into mechanical energy. The User Knowledge Modeling Data Set describes the students' knowledge level on the subject of Electrical DC Machines. They are important as they are used in common household appliances. Therefore, improving the learning and teaching of these machines by studying students’ knowledge of them is valuable.\n",
    "\n",
    "The data set include three sheets: Information, Training_Data, and Test_Data. Sheet 1 includes the description of this data set,  such as characteristics, class distribution, and attribute information. \n",
    "Sheet 2 and 3 include five columns:\n",
    "  - `STG` (dbl): degree of study time for goal object materials\n",
    "  - `SCG`(dbl): degree of repetition number of user for goal object materials\n",
    "  - `STR`(dbl):  degree of study time of the user for related objects with goal object\n",
    "  - `LPR`(dbl): exam performance of user for related objects with goal object\n",
    "  - `PEG`(dbl): exam performance of users for goal objects\n",
    "  - `UNS`(char): knowledge level of user, classified into four categories: very low, low, middle, and high.\n",
    "  \n",
    "Using K-nearest neighbor algorithm, we’ll be predicting a categorical class for an observation given other known variables, a method known as classification.\n",
    "\n",
    "Our predictive question: “What would a future user’s knowledge level based on the five user attributes?”"
   ]
  },
  {
   "cell_type": "code",
   "execution_count": 100,
   "id": "c31536a9-9403-464f-adab-1985e4407734",
   "metadata": {},
   "outputs": [
    {
     "name": "stderr",
     "output_type": "stream",
     "text": [
      "\u001b[1m\u001b[22mNew names:\n",
      "\u001b[36m•\u001b[39m `` -> `...7`\n",
      "\u001b[36m•\u001b[39m `` -> `...8`\n"
     ]
    },
    {
     "data": {
      "text/html": [
       "<table class=\"dataframe\">\n",
       "<caption>A tibble: 6 × 9</caption>\n",
       "<thead>\n",
       "\t<tr><th scope=col>STG</th><th scope=col>SCG</th><th scope=col>STR</th><th scope=col>LPR</th><th scope=col>PEG</th><th scope=col>UNS</th><th scope=col>...7</th><th scope=col>...8</th><th scope=col>Attribute Information:</th></tr>\n",
       "\t<tr><th scope=col>&lt;dbl&gt;</th><th scope=col>&lt;dbl&gt;</th><th scope=col>&lt;dbl&gt;</th><th scope=col>&lt;dbl&gt;</th><th scope=col>&lt;dbl&gt;</th><th scope=col>&lt;chr&gt;</th><th scope=col>&lt;lgl&gt;</th><th scope=col>&lt;lgl&gt;</th><th scope=col>&lt;chr&gt;</th></tr>\n",
       "</thead>\n",
       "<tbody>\n",
       "\t<tr><td>0.00</td><td>0.00</td><td>0.00</td><td>0.00</td><td>0.00</td><td>very_low</td><td>NA</td><td>NA</td><td>STG (The degree of study time for goal object materails),                  </td></tr>\n",
       "\t<tr><td>0.08</td><td>0.08</td><td>0.10</td><td>0.24</td><td>0.90</td><td>High    </td><td>NA</td><td>NA</td><td>SCG (The degree of repetition number of user for goal object materails)    </td></tr>\n",
       "\t<tr><td>0.06</td><td>0.06</td><td>0.05</td><td>0.25</td><td>0.33</td><td>Low     </td><td>NA</td><td>NA</td><td>STR (The degree of study time of user for related objects with goal object)</td></tr>\n",
       "\t<tr><td>0.10</td><td>0.10</td><td>0.15</td><td>0.65</td><td>0.30</td><td>Middle  </td><td>NA</td><td>NA</td><td>LPR (The exam performance of user for related objects with goal object)    </td></tr>\n",
       "\t<tr><td>0.08</td><td>0.08</td><td>0.08</td><td>0.98</td><td>0.24</td><td>Low     </td><td>NA</td><td>NA</td><td>PEG (The exam performance of user for goal objects)                        </td></tr>\n",
       "\t<tr><td>0.09</td><td>0.15</td><td>0.40</td><td>0.10</td><td>0.66</td><td>Middle  </td><td>NA</td><td>NA</td><td>UNS (The knowledge level of user)                                          </td></tr>\n",
       "</tbody>\n",
       "</table>\n"
      ],
      "text/latex": [
       "A tibble: 6 × 9\n",
       "\\begin{tabular}{lllllllll}\n",
       " STG & SCG & STR & LPR & PEG & UNS & ...7 & ...8 & Attribute Information:\\\\\n",
       " <dbl> & <dbl> & <dbl> & <dbl> & <dbl> & <chr> & <lgl> & <lgl> & <chr>\\\\\n",
       "\\hline\n",
       "\t 0.00 & 0.00 & 0.00 & 0.00 & 0.00 & very\\_low & NA & NA & STG (The degree of study time for goal object materails),                  \\\\\n",
       "\t 0.08 & 0.08 & 0.10 & 0.24 & 0.90 & High     & NA & NA & SCG (The degree of repetition number of user for goal object materails)    \\\\\n",
       "\t 0.06 & 0.06 & 0.05 & 0.25 & 0.33 & Low      & NA & NA & STR (The degree of study time of user for related objects with goal object)\\\\\n",
       "\t 0.10 & 0.10 & 0.15 & 0.65 & 0.30 & Middle   & NA & NA & LPR (The exam performance of user for related objects with goal object)    \\\\\n",
       "\t 0.08 & 0.08 & 0.08 & 0.98 & 0.24 & Low      & NA & NA & PEG (The exam performance of user for goal objects)                        \\\\\n",
       "\t 0.09 & 0.15 & 0.40 & 0.10 & 0.66 & Middle   & NA & NA & UNS (The knowledge level of user)                                          \\\\\n",
       "\\end{tabular}\n"
      ],
      "text/markdown": [
       "\n",
       "A tibble: 6 × 9\n",
       "\n",
       "| STG &lt;dbl&gt; | SCG &lt;dbl&gt; | STR &lt;dbl&gt; | LPR &lt;dbl&gt; | PEG &lt;dbl&gt; | UNS &lt;chr&gt; | ...7 &lt;lgl&gt; | ...8 &lt;lgl&gt; | Attribute Information: &lt;chr&gt; |\n",
       "|---|---|---|---|---|---|---|---|---|\n",
       "| 0.00 | 0.00 | 0.00 | 0.00 | 0.00 | very_low | NA | NA | STG (The degree of study time for goal object materails),                   |\n",
       "| 0.08 | 0.08 | 0.10 | 0.24 | 0.90 | High     | NA | NA | SCG (The degree of repetition number of user for goal object materails)     |\n",
       "| 0.06 | 0.06 | 0.05 | 0.25 | 0.33 | Low      | NA | NA | STR (The degree of study time of user for related objects with goal object) |\n",
       "| 0.10 | 0.10 | 0.15 | 0.65 | 0.30 | Middle   | NA | NA | LPR (The exam performance of user for related objects with goal object)     |\n",
       "| 0.08 | 0.08 | 0.08 | 0.98 | 0.24 | Low      | NA | NA | PEG (The exam performance of user for goal objects)                         |\n",
       "| 0.09 | 0.15 | 0.40 | 0.10 | 0.66 | Middle   | NA | NA | UNS (The knowledge level of user)                                           |\n",
       "\n"
      ],
      "text/plain": [
       "  STG  SCG  STR  LPR  PEG  UNS      ...7 ...8\n",
       "1 0.00 0.00 0.00 0.00 0.00 very_low NA   NA  \n",
       "2 0.08 0.08 0.10 0.24 0.90 High     NA   NA  \n",
       "3 0.06 0.06 0.05 0.25 0.33 Low      NA   NA  \n",
       "4 0.10 0.10 0.15 0.65 0.30 Middle   NA   NA  \n",
       "5 0.08 0.08 0.08 0.98 0.24 Low      NA   NA  \n",
       "6 0.09 0.15 0.40 0.10 0.66 Middle   NA   NA  \n",
       "  Attribute Information:                                                     \n",
       "1 STG (The degree of study time for goal object materails),                  \n",
       "2 SCG (The degree of repetition number of user for goal object materails)    \n",
       "3 STR (The degree of study time of user for related objects with goal object)\n",
       "4 LPR (The exam performance of user for related objects with goal object)    \n",
       "5 PEG (The exam performance of user for goal objects)                        \n",
       "6 UNS (The knowledge level of user)                                          "
      ]
     },
     "metadata": {},
     "output_type": "display_data"
    }
   ],
   "source": [
    "set.seed(102)\n",
    "library(tidyverse)\n",
    "library(readxl)\n",
    "library(dplyr)\n",
    "library(tidymodels)\n",
    "set.seed(102)\n",
    "\n",
    "# read the dataset into R\n",
    "url <- \"https://archive.ics.uci.edu/ml/machine-learning-databases/00257/Data_User_Modeling_Dataset_Hamdi%20Tolga%20KAHRAMAN.xls\"\n",
    "download.file(url, destfile = \"user.xls\")\n",
    "messy_user_data <- read_excel(\"user.xls\", sheet = 2)\n",
    "head(messy_user_data) # to show the first 6 observations in this dataframe"
   ]
  },
  {
   "cell_type": "code",
   "execution_count": 101,
   "id": "0ef7dc2a-462a-422d-93a5-5586a4a4f8e7",
   "metadata": {},
   "outputs": [
    {
     "data": {
      "text/html": [
       "<table class=\"dataframe\">\n",
       "<caption>A tibble: 6 × 6</caption>\n",
       "<thead>\n",
       "\t<tr><th scope=col>STG</th><th scope=col>SCG</th><th scope=col>STR</th><th scope=col>LPR</th><th scope=col>PEG</th><th scope=col>UNS</th></tr>\n",
       "\t<tr><th scope=col>&lt;dbl&gt;</th><th scope=col>&lt;dbl&gt;</th><th scope=col>&lt;dbl&gt;</th><th scope=col>&lt;dbl&gt;</th><th scope=col>&lt;dbl&gt;</th><th scope=col>&lt;fct&gt;</th></tr>\n",
       "</thead>\n",
       "<tbody>\n",
       "\t<tr><td>0.00</td><td>0.00</td><td>0.00</td><td>0.00</td><td>0.00</td><td>very_low</td></tr>\n",
       "\t<tr><td>0.08</td><td>0.08</td><td>0.10</td><td>0.24</td><td>0.90</td><td>High    </td></tr>\n",
       "\t<tr><td>0.06</td><td>0.06</td><td>0.05</td><td>0.25</td><td>0.33</td><td>Low     </td></tr>\n",
       "\t<tr><td>0.10</td><td>0.10</td><td>0.15</td><td>0.65</td><td>0.30</td><td>Middle  </td></tr>\n",
       "\t<tr><td>0.08</td><td>0.08</td><td>0.08</td><td>0.98</td><td>0.24</td><td>Low     </td></tr>\n",
       "\t<tr><td>0.09</td><td>0.15</td><td>0.40</td><td>0.10</td><td>0.66</td><td>Middle  </td></tr>\n",
       "</tbody>\n",
       "</table>\n"
      ],
      "text/latex": [
       "A tibble: 6 × 6\n",
       "\\begin{tabular}{llllll}\n",
       " STG & SCG & STR & LPR & PEG & UNS\\\\\n",
       " <dbl> & <dbl> & <dbl> & <dbl> & <dbl> & <fct>\\\\\n",
       "\\hline\n",
       "\t 0.00 & 0.00 & 0.00 & 0.00 & 0.00 & very\\_low\\\\\n",
       "\t 0.08 & 0.08 & 0.10 & 0.24 & 0.90 & High    \\\\\n",
       "\t 0.06 & 0.06 & 0.05 & 0.25 & 0.33 & Low     \\\\\n",
       "\t 0.10 & 0.10 & 0.15 & 0.65 & 0.30 & Middle  \\\\\n",
       "\t 0.08 & 0.08 & 0.08 & 0.98 & 0.24 & Low     \\\\\n",
       "\t 0.09 & 0.15 & 0.40 & 0.10 & 0.66 & Middle  \\\\\n",
       "\\end{tabular}\n"
      ],
      "text/markdown": [
       "\n",
       "A tibble: 6 × 6\n",
       "\n",
       "| STG &lt;dbl&gt; | SCG &lt;dbl&gt; | STR &lt;dbl&gt; | LPR &lt;dbl&gt; | PEG &lt;dbl&gt; | UNS &lt;fct&gt; |\n",
       "|---|---|---|---|---|---|\n",
       "| 0.00 | 0.00 | 0.00 | 0.00 | 0.00 | very_low |\n",
       "| 0.08 | 0.08 | 0.10 | 0.24 | 0.90 | High     |\n",
       "| 0.06 | 0.06 | 0.05 | 0.25 | 0.33 | Low      |\n",
       "| 0.10 | 0.10 | 0.15 | 0.65 | 0.30 | Middle   |\n",
       "| 0.08 | 0.08 | 0.08 | 0.98 | 0.24 | Low      |\n",
       "| 0.09 | 0.15 | 0.40 | 0.10 | 0.66 | Middle   |\n",
       "\n"
      ],
      "text/plain": [
       "  STG  SCG  STR  LPR  PEG  UNS     \n",
       "1 0.00 0.00 0.00 0.00 0.00 very_low\n",
       "2 0.08 0.08 0.10 0.24 0.90 High    \n",
       "3 0.06 0.06 0.05 0.25 0.33 Low     \n",
       "4 0.10 0.10 0.15 0.65 0.30 Middle  \n",
       "5 0.08 0.08 0.08 0.98 0.24 Low     \n",
       "6 0.09 0.15 0.40 0.10 0.66 Middle  "
      ]
     },
     "metadata": {},
     "output_type": "display_data"
    }
   ],
   "source": [
    "set.seed(102)\n",
    "# Clean and wrangle the data into a tidy format\n",
    "user_data <- messy_user_data |>\n",
    "    select(STG: UNS) |>\n",
    "    mutate(UNS = as_factor(UNS))\n",
    "head(user_data) # to show the first 6 observations in this dataframe"
   ]
  },
  {
   "cell_type": "markdown",
   "id": "9f03a20d-557d-4f2c-ac96-222048bb66cf",
   "metadata": {},
   "source": [
    "We will not be needing to perform the initial split because our original data set has already been split into a training and test set. Earlier, we loaded sheet 2, which was the training data set. Here, we will rename the data set we read into R earlier to user_train and load the test data set from sheet 3."
   ]
  },
  {
   "cell_type": "code",
   "execution_count": 102,
   "id": "6f30245c-2325-48da-b35f-8b5bf1c64474",
   "metadata": {},
   "outputs": [],
   "source": [
    "set.seed(102)\n",
    "# Rename user_data to user_train\n",
    "user_train<-user_data"
   ]
  },
  {
   "cell_type": "code",
   "execution_count": 103,
   "id": "4d4c725a-c03d-4bd3-b539-d0d6ffcc567d",
   "metadata": {},
   "outputs": [
    {
     "name": "stderr",
     "output_type": "stream",
     "text": [
      "\u001b[1m\u001b[22mNew names:\n",
      "\u001b[36m•\u001b[39m `` -> `...7`\n",
      "\u001b[36m•\u001b[39m `` -> `...8`\n"
     ]
    },
    {
     "data": {
      "text/html": [
       "<table class=\"dataframe\">\n",
       "<caption>A tibble: 6 × 9</caption>\n",
       "<thead>\n",
       "\t<tr><th scope=col>STG</th><th scope=col>SCG</th><th scope=col>STR</th><th scope=col>LPR</th><th scope=col>PEG</th><th scope=col>UNS</th><th scope=col>...7</th><th scope=col>...8</th><th scope=col>Attribute Information:</th></tr>\n",
       "\t<tr><th scope=col>&lt;dbl&gt;</th><th scope=col>&lt;dbl&gt;</th><th scope=col>&lt;dbl&gt;</th><th scope=col>&lt;dbl&gt;</th><th scope=col>&lt;dbl&gt;</th><th scope=col>&lt;chr&gt;</th><th scope=col>&lt;lgl&gt;</th><th scope=col>&lt;lgl&gt;</th><th scope=col>&lt;chr&gt;</th></tr>\n",
       "</thead>\n",
       "<tbody>\n",
       "\t<tr><td>0.00</td><td>0.10</td><td>0.50</td><td>0.26</td><td>0.05</td><td>Very Low</td><td>NA</td><td>NA</td><td>STG (The degree of study time for goal object materails),                  </td></tr>\n",
       "\t<tr><td>0.05</td><td>0.05</td><td>0.55</td><td>0.60</td><td>0.14</td><td>Low     </td><td>NA</td><td>NA</td><td>SCG (The degree of repetition number of user for goal object materails)    </td></tr>\n",
       "\t<tr><td>0.08</td><td>0.18</td><td>0.63</td><td>0.60</td><td>0.85</td><td>High    </td><td>NA</td><td>NA</td><td>STR (The degree of study time of user for related objects with goal object)</td></tr>\n",
       "\t<tr><td>0.20</td><td>0.20</td><td>0.68</td><td>0.67</td><td>0.85</td><td>High    </td><td>NA</td><td>NA</td><td>LPR (The exam performance of user for related objects with goal object)    </td></tr>\n",
       "\t<tr><td>0.22</td><td>0.22</td><td>0.90</td><td>0.30</td><td>0.90</td><td>High    </td><td>NA</td><td>NA</td><td>PEG (The exam performance of user for goal objects)                        </td></tr>\n",
       "\t<tr><td>0.14</td><td>0.14</td><td>0.70</td><td>0.50</td><td>0.30</td><td>Low     </td><td>NA</td><td>NA</td><td>UNS (The knowledge level of user)                                          </td></tr>\n",
       "</tbody>\n",
       "</table>\n"
      ],
      "text/latex": [
       "A tibble: 6 × 9\n",
       "\\begin{tabular}{lllllllll}\n",
       " STG & SCG & STR & LPR & PEG & UNS & ...7 & ...8 & Attribute Information:\\\\\n",
       " <dbl> & <dbl> & <dbl> & <dbl> & <dbl> & <chr> & <lgl> & <lgl> & <chr>\\\\\n",
       "\\hline\n",
       "\t 0.00 & 0.10 & 0.50 & 0.26 & 0.05 & Very Low & NA & NA & STG (The degree of study time for goal object materails),                  \\\\\n",
       "\t 0.05 & 0.05 & 0.55 & 0.60 & 0.14 & Low      & NA & NA & SCG (The degree of repetition number of user for goal object materails)    \\\\\n",
       "\t 0.08 & 0.18 & 0.63 & 0.60 & 0.85 & High     & NA & NA & STR (The degree of study time of user for related objects with goal object)\\\\\n",
       "\t 0.20 & 0.20 & 0.68 & 0.67 & 0.85 & High     & NA & NA & LPR (The exam performance of user for related objects with goal object)    \\\\\n",
       "\t 0.22 & 0.22 & 0.90 & 0.30 & 0.90 & High     & NA & NA & PEG (The exam performance of user for goal objects)                        \\\\\n",
       "\t 0.14 & 0.14 & 0.70 & 0.50 & 0.30 & Low      & NA & NA & UNS (The knowledge level of user)                                          \\\\\n",
       "\\end{tabular}\n"
      ],
      "text/markdown": [
       "\n",
       "A tibble: 6 × 9\n",
       "\n",
       "| STG &lt;dbl&gt; | SCG &lt;dbl&gt; | STR &lt;dbl&gt; | LPR &lt;dbl&gt; | PEG &lt;dbl&gt; | UNS &lt;chr&gt; | ...7 &lt;lgl&gt; | ...8 &lt;lgl&gt; | Attribute Information: &lt;chr&gt; |\n",
       "|---|---|---|---|---|---|---|---|---|\n",
       "| 0.00 | 0.10 | 0.50 | 0.26 | 0.05 | Very Low | NA | NA | STG (The degree of study time for goal object materails),                   |\n",
       "| 0.05 | 0.05 | 0.55 | 0.60 | 0.14 | Low      | NA | NA | SCG (The degree of repetition number of user for goal object materails)     |\n",
       "| 0.08 | 0.18 | 0.63 | 0.60 | 0.85 | High     | NA | NA | STR (The degree of study time of user for related objects with goal object) |\n",
       "| 0.20 | 0.20 | 0.68 | 0.67 | 0.85 | High     | NA | NA | LPR (The exam performance of user for related objects with goal object)     |\n",
       "| 0.22 | 0.22 | 0.90 | 0.30 | 0.90 | High     | NA | NA | PEG (The exam performance of user for goal objects)                         |\n",
       "| 0.14 | 0.14 | 0.70 | 0.50 | 0.30 | Low      | NA | NA | UNS (The knowledge level of user)                                           |\n",
       "\n"
      ],
      "text/plain": [
       "  STG  SCG  STR  LPR  PEG  UNS      ...7 ...8\n",
       "1 0.00 0.10 0.50 0.26 0.05 Very Low NA   NA  \n",
       "2 0.05 0.05 0.55 0.60 0.14 Low      NA   NA  \n",
       "3 0.08 0.18 0.63 0.60 0.85 High     NA   NA  \n",
       "4 0.20 0.20 0.68 0.67 0.85 High     NA   NA  \n",
       "5 0.22 0.22 0.90 0.30 0.90 High     NA   NA  \n",
       "6 0.14 0.14 0.70 0.50 0.30 Low      NA   NA  \n",
       "  Attribute Information:                                                     \n",
       "1 STG (The degree of study time for goal object materails),                  \n",
       "2 SCG (The degree of repetition number of user for goal object materails)    \n",
       "3 STR (The degree of study time of user for related objects with goal object)\n",
       "4 LPR (The exam performance of user for related objects with goal object)    \n",
       "5 PEG (The exam performance of user for goal objects)                        \n",
       "6 UNS (The knowledge level of user)                                          "
      ]
     },
     "metadata": {},
     "output_type": "display_data"
    }
   ],
   "source": [
    "set.seed(102)\n",
    "# Read the test dataset into R\n",
    "url <- \"https://archive.ics.uci.edu/ml/machine-learning-databases/00257/Data_User_Modeling_Dataset_Hamdi%20Tolga%20KAHRAMAN.xls\"\n",
    "download.file(url, destfile = \"user.xls\")\n",
    "messy_user_test <- read_excel(\"user.xls\", sheet = 3)\n",
    "head(messy_user_test) # to show the first 6 observations in this dataframe"
   ]
  },
  {
   "cell_type": "code",
   "execution_count": 104,
   "id": "dd3fd715-1310-4343-9346-0bdb6e59dc02",
   "metadata": {},
   "outputs": [
    {
     "data": {
      "text/html": [
       "<table class=\"dataframe\">\n",
       "<caption>A tibble: 6 × 6</caption>\n",
       "<thead>\n",
       "\t<tr><th scope=col>STG</th><th scope=col>SCG</th><th scope=col>STR</th><th scope=col>LPR</th><th scope=col>PEG</th><th scope=col>UNS</th></tr>\n",
       "\t<tr><th scope=col>&lt;dbl&gt;</th><th scope=col>&lt;dbl&gt;</th><th scope=col>&lt;dbl&gt;</th><th scope=col>&lt;dbl&gt;</th><th scope=col>&lt;dbl&gt;</th><th scope=col>&lt;fct&gt;</th></tr>\n",
       "</thead>\n",
       "<tbody>\n",
       "\t<tr><td>0.00</td><td>0.10</td><td>0.50</td><td>0.26</td><td>0.05</td><td>very_low</td></tr>\n",
       "\t<tr><td>0.16</td><td>0.25</td><td>0.01</td><td>0.10</td><td>0.07</td><td>very_low</td></tr>\n",
       "\t<tr><td>0.18</td><td>0.26</td><td>0.05</td><td>0.40</td><td>0.04</td><td>very_low</td></tr>\n",
       "\t<tr><td>0.10</td><td>0.27</td><td>0.35</td><td>0.45</td><td>0.05</td><td>very_low</td></tr>\n",
       "\t<tr><td>0.00</td><td>0.25</td><td>0.50</td><td>0.09</td><td>0.07</td><td>very_low</td></tr>\n",
       "\t<tr><td>0.20</td><td>0.25</td><td>0.70</td><td>0.25</td><td>0.03</td><td>very_low</td></tr>\n",
       "</tbody>\n",
       "</table>\n"
      ],
      "text/latex": [
       "A tibble: 6 × 6\n",
       "\\begin{tabular}{llllll}\n",
       " STG & SCG & STR & LPR & PEG & UNS\\\\\n",
       " <dbl> & <dbl> & <dbl> & <dbl> & <dbl> & <fct>\\\\\n",
       "\\hline\n",
       "\t 0.00 & 0.10 & 0.50 & 0.26 & 0.05 & very\\_low\\\\\n",
       "\t 0.16 & 0.25 & 0.01 & 0.10 & 0.07 & very\\_low\\\\\n",
       "\t 0.18 & 0.26 & 0.05 & 0.40 & 0.04 & very\\_low\\\\\n",
       "\t 0.10 & 0.27 & 0.35 & 0.45 & 0.05 & very\\_low\\\\\n",
       "\t 0.00 & 0.25 & 0.50 & 0.09 & 0.07 & very\\_low\\\\\n",
       "\t 0.20 & 0.25 & 0.70 & 0.25 & 0.03 & very\\_low\\\\\n",
       "\\end{tabular}\n"
      ],
      "text/markdown": [
       "\n",
       "A tibble: 6 × 6\n",
       "\n",
       "| STG &lt;dbl&gt; | SCG &lt;dbl&gt; | STR &lt;dbl&gt; | LPR &lt;dbl&gt; | PEG &lt;dbl&gt; | UNS &lt;fct&gt; |\n",
       "|---|---|---|---|---|---|\n",
       "| 0.00 | 0.10 | 0.50 | 0.26 | 0.05 | very_low |\n",
       "| 0.16 | 0.25 | 0.01 | 0.10 | 0.07 | very_low |\n",
       "| 0.18 | 0.26 | 0.05 | 0.40 | 0.04 | very_low |\n",
       "| 0.10 | 0.27 | 0.35 | 0.45 | 0.05 | very_low |\n",
       "| 0.00 | 0.25 | 0.50 | 0.09 | 0.07 | very_low |\n",
       "| 0.20 | 0.25 | 0.70 | 0.25 | 0.03 | very_low |\n",
       "\n"
      ],
      "text/plain": [
       "  STG  SCG  STR  LPR  PEG  UNS     \n",
       "1 0.00 0.10 0.50 0.26 0.05 very_low\n",
       "2 0.16 0.25 0.01 0.10 0.07 very_low\n",
       "3 0.18 0.26 0.05 0.40 0.04 very_low\n",
       "4 0.10 0.27 0.35 0.45 0.05 very_low\n",
       "5 0.00 0.25 0.50 0.09 0.07 very_low\n",
       "6 0.20 0.25 0.70 0.25 0.03 very_low"
      ]
     },
     "metadata": {},
     "output_type": "display_data"
    },
    {
     "data": {
      "text/html": [
       "<table class=\"dataframe\">\n",
       "<caption>A tibble: 6 × 6</caption>\n",
       "<thead>\n",
       "\t<tr><th scope=col>STG</th><th scope=col>SCG</th><th scope=col>STR</th><th scope=col>LPR</th><th scope=col>PEG</th><th scope=col>UNS</th></tr>\n",
       "\t<tr><th scope=col>&lt;dbl&gt;</th><th scope=col>&lt;dbl&gt;</th><th scope=col>&lt;dbl&gt;</th><th scope=col>&lt;dbl&gt;</th><th scope=col>&lt;dbl&gt;</th><th scope=col>&lt;ord&gt;</th></tr>\n",
       "</thead>\n",
       "<tbody>\n",
       "\t<tr><td>0.05</td><td>0.05</td><td>0.55</td><td>0.60</td><td>0.14</td><td>Low   </td></tr>\n",
       "\t<tr><td>0.08</td><td>0.18</td><td>0.63</td><td>0.60</td><td>0.85</td><td>High  </td></tr>\n",
       "\t<tr><td>0.20</td><td>0.20</td><td>0.68</td><td>0.67</td><td>0.85</td><td>High  </td></tr>\n",
       "\t<tr><td>0.22</td><td>0.22</td><td>0.90</td><td>0.30</td><td>0.90</td><td>High  </td></tr>\n",
       "\t<tr><td>0.14</td><td>0.14</td><td>0.70</td><td>0.50</td><td>0.30</td><td>Low   </td></tr>\n",
       "\t<tr><td>0.16</td><td>0.16</td><td>0.80</td><td>0.50</td><td>0.50</td><td>Middle</td></tr>\n",
       "</tbody>\n",
       "</table>\n"
      ],
      "text/latex": [
       "A tibble: 6 × 6\n",
       "\\begin{tabular}{llllll}\n",
       " STG & SCG & STR & LPR & PEG & UNS\\\\\n",
       " <dbl> & <dbl> & <dbl> & <dbl> & <dbl> & <ord>\\\\\n",
       "\\hline\n",
       "\t 0.05 & 0.05 & 0.55 & 0.60 & 0.14 & Low   \\\\\n",
       "\t 0.08 & 0.18 & 0.63 & 0.60 & 0.85 & High  \\\\\n",
       "\t 0.20 & 0.20 & 0.68 & 0.67 & 0.85 & High  \\\\\n",
       "\t 0.22 & 0.22 & 0.90 & 0.30 & 0.90 & High  \\\\\n",
       "\t 0.14 & 0.14 & 0.70 & 0.50 & 0.30 & Low   \\\\\n",
       "\t 0.16 & 0.16 & 0.80 & 0.50 & 0.50 & Middle\\\\\n",
       "\\end{tabular}\n"
      ],
      "text/markdown": [
       "\n",
       "A tibble: 6 × 6\n",
       "\n",
       "| STG &lt;dbl&gt; | SCG &lt;dbl&gt; | STR &lt;dbl&gt; | LPR &lt;dbl&gt; | PEG &lt;dbl&gt; | UNS &lt;ord&gt; |\n",
       "|---|---|---|---|---|---|\n",
       "| 0.05 | 0.05 | 0.55 | 0.60 | 0.14 | Low    |\n",
       "| 0.08 | 0.18 | 0.63 | 0.60 | 0.85 | High   |\n",
       "| 0.20 | 0.20 | 0.68 | 0.67 | 0.85 | High   |\n",
       "| 0.22 | 0.22 | 0.90 | 0.30 | 0.90 | High   |\n",
       "| 0.14 | 0.14 | 0.70 | 0.50 | 0.30 | Low    |\n",
       "| 0.16 | 0.16 | 0.80 | 0.50 | 0.50 | Middle |\n",
       "\n"
      ],
      "text/plain": [
       "  STG  SCG  STR  LPR  PEG  UNS   \n",
       "1 0.05 0.05 0.55 0.60 0.14 Low   \n",
       "2 0.08 0.18 0.63 0.60 0.85 High  \n",
       "3 0.20 0.20 0.68 0.67 0.85 High  \n",
       "4 0.22 0.22 0.90 0.30 0.90 High  \n",
       "5 0.14 0.14 0.70 0.50 0.30 Low   \n",
       "6 0.16 0.16 0.80 0.50 0.50 Middle"
      ]
     },
     "metadata": {},
     "output_type": "display_data"
    },
    {
     "data": {
      "text/html": [
       "<table class=\"dataframe\">\n",
       "<caption>A tibble: 6 × 6</caption>\n",
       "<thead>\n",
       "\t<tr><th scope=col>STG</th><th scope=col>SCG</th><th scope=col>STR</th><th scope=col>LPR</th><th scope=col>PEG</th><th scope=col>UNS</th></tr>\n",
       "\t<tr><th scope=col>&lt;dbl&gt;</th><th scope=col>&lt;dbl&gt;</th><th scope=col>&lt;dbl&gt;</th><th scope=col>&lt;dbl&gt;</th><th scope=col>&lt;dbl&gt;</th><th scope=col>&lt;fct&gt;</th></tr>\n",
       "</thead>\n",
       "<tbody>\n",
       "\t<tr><td>0.68</td><td>0.61</td><td>0.34</td><td>0.31</td><td>0.23</td><td>Low   </td></tr>\n",
       "\t<tr><td>0.90</td><td>0.78</td><td>0.62</td><td>0.32</td><td>0.89</td><td>High  </td></tr>\n",
       "\t<tr><td>0.85</td><td>0.82</td><td>0.66</td><td>0.83</td><td>0.83</td><td>High  </td></tr>\n",
       "\t<tr><td>0.56</td><td>0.60</td><td>0.77</td><td>0.13</td><td>0.32</td><td>Low   </td></tr>\n",
       "\t<tr><td>0.66</td><td>0.68</td><td>0.81</td><td>0.57</td><td>0.57</td><td>Middle</td></tr>\n",
       "\t<tr><td>0.68</td><td>0.64</td><td>0.79</td><td>0.97</td><td>0.24</td><td>Middle</td></tr>\n",
       "</tbody>\n",
       "</table>\n"
      ],
      "text/latex": [
       "A tibble: 6 × 6\n",
       "\\begin{tabular}{llllll}\n",
       " STG & SCG & STR & LPR & PEG & UNS\\\\\n",
       " <dbl> & <dbl> & <dbl> & <dbl> & <dbl> & <fct>\\\\\n",
       "\\hline\n",
       "\t 0.68 & 0.61 & 0.34 & 0.31 & 0.23 & Low   \\\\\n",
       "\t 0.90 & 0.78 & 0.62 & 0.32 & 0.89 & High  \\\\\n",
       "\t 0.85 & 0.82 & 0.66 & 0.83 & 0.83 & High  \\\\\n",
       "\t 0.56 & 0.60 & 0.77 & 0.13 & 0.32 & Low   \\\\\n",
       "\t 0.66 & 0.68 & 0.81 & 0.57 & 0.57 & Middle\\\\\n",
       "\t 0.68 & 0.64 & 0.79 & 0.97 & 0.24 & Middle\\\\\n",
       "\\end{tabular}\n"
      ],
      "text/markdown": [
       "\n",
       "A tibble: 6 × 6\n",
       "\n",
       "| STG &lt;dbl&gt; | SCG &lt;dbl&gt; | STR &lt;dbl&gt; | LPR &lt;dbl&gt; | PEG &lt;dbl&gt; | UNS &lt;fct&gt; |\n",
       "|---|---|---|---|---|---|\n",
       "| 0.68 | 0.61 | 0.34 | 0.31 | 0.23 | Low    |\n",
       "| 0.90 | 0.78 | 0.62 | 0.32 | 0.89 | High   |\n",
       "| 0.85 | 0.82 | 0.66 | 0.83 | 0.83 | High   |\n",
       "| 0.56 | 0.60 | 0.77 | 0.13 | 0.32 | Low    |\n",
       "| 0.66 | 0.68 | 0.81 | 0.57 | 0.57 | Middle |\n",
       "| 0.68 | 0.64 | 0.79 | 0.97 | 0.24 | Middle |\n",
       "\n"
      ],
      "text/plain": [
       "  STG  SCG  STR  LPR  PEG  UNS   \n",
       "1 0.68 0.61 0.34 0.31 0.23 Low   \n",
       "2 0.90 0.78 0.62 0.32 0.89 High  \n",
       "3 0.85 0.82 0.66 0.83 0.83 High  \n",
       "4 0.56 0.60 0.77 0.13 0.32 Low   \n",
       "5 0.66 0.68 0.81 0.57 0.57 Middle\n",
       "6 0.68 0.64 0.79 0.97 0.24 Middle"
      ]
     },
     "metadata": {},
     "output_type": "display_data"
    },
    {
     "data": {
      "text/html": [
       "<style>\n",
       ".list-inline {list-style: none; margin:0; padding: 0}\n",
       ".list-inline>li {display: inline-block}\n",
       ".list-inline>li:not(:last-child)::after {content: \"\\00b7\"; padding: 0 .5ex}\n",
       "</style>\n",
       "<ol class=list-inline><li>'very_low'</li><li>'Low'</li><li>'Middle'</li><li>'High'</li></ol>\n"
      ],
      "text/latex": [
       "\\begin{enumerate*}\n",
       "\\item 'very\\_low'\n",
       "\\item 'Low'\n",
       "\\item 'Middle'\n",
       "\\item 'High'\n",
       "\\end{enumerate*}\n"
      ],
      "text/markdown": [
       "1. 'very_low'\n",
       "2. 'Low'\n",
       "3. 'Middle'\n",
       "4. 'High'\n",
       "\n",
       "\n"
      ],
      "text/plain": [
       "[1] \"very_low\" \"Low\"      \"Middle\"   \"High\"    "
      ]
     },
     "metadata": {},
     "output_type": "display_data"
    },
    {
     "data": {
      "text/html": [
       "<style>\n",
       ".list-inline {list-style: none; margin:0; padding: 0}\n",
       ".list-inline>li {display: inline-block}\n",
       ".list-inline>li:not(:last-child)::after {content: \"\\00b7\"; padding: 0 .5ex}\n",
       "</style>\n",
       "<ol class=list-inline><li>'very_low'</li><li>'Low'</li><li>'Middle'</li><li>'High'</li></ol>\n"
      ],
      "text/latex": [
       "\\begin{enumerate*}\n",
       "\\item 'very\\_low'\n",
       "\\item 'Low'\n",
       "\\item 'Middle'\n",
       "\\item 'High'\n",
       "\\end{enumerate*}\n"
      ],
      "text/markdown": [
       "1. 'very_low'\n",
       "2. 'Low'\n",
       "3. 'Middle'\n",
       "4. 'High'\n",
       "\n",
       "\n"
      ],
      "text/plain": [
       "[1] \"very_low\" \"Low\"      \"Middle\"   \"High\"    "
      ]
     },
     "metadata": {},
     "output_type": "display_data"
    }
   ],
   "source": [
    "set.seed(102)\n",
    "# Clean and wrangle the data into a tidy format\n",
    "user_test <- messy_user_test |>\n",
    "    select(STG: UNS) |>\n",
    "    mutate(UNS = as_factor(UNS))\n",
    "user_train$UNS <-factor(user_train$UNS, \n",
    "                       levels = c('very_low', 'Low', 'Middle','High'), \n",
    "                       ordered = TRUE)\n",
    "user_test$UNS <-factor(user_test$UNS, \n",
    "                       levels = c('very_low', 'Low', 'Middle','High'), \n",
    "                       ordered = TRUE)\n",
    "user_very_low <- user_test |>\n",
    "    filter(is.na(UNS)) |>       \n",
    "    mutate(UNS = case_when(is.na(UNS) ~ 'very_low')) |>\n",
    "    mutate(UNS = as.factor(UNS))\n",
    "head(user_very_low)\n",
    "\n",
    "user_test_without_very_low <- user_test |>\n",
    "    filter(!is.na(UNS))\n",
    "head(user_test_without_very_low)\n",
    "\n",
    "user_test <- rbind(user_very_low, user_test_without_very_low) |>\n",
    "    mutate(UNS = as.factor(UNS))\n",
    "tail(user_test)\n",
    "\n",
    "levels(user_train$UNS)\n",
    "levels(user_test$UNS)"
   ]
  },
  {
   "cell_type": "markdown",
   "id": "cadf5d5a-1437-4ef3-932c-833ef6d7f704",
   "metadata": {},
   "source": [
    "Now that we have our training and testing dataset, we will put our test dataset away for now while we tune our model in order to choose the best value of K."
   ]
  },
  {
   "cell_type": "code",
   "execution_count": 105,
   "id": "5c3cf63c-8bf7-48f7-8d11-558da2472e41",
   "metadata": {},
   "outputs": [
    {
     "data": {
      "text/html": [
       "<table class=\"dataframe\">\n",
       "<caption>A tibble: 40 × 7</caption>\n",
       "<thead>\n",
       "\t<tr><th scope=col>neighbors</th><th scope=col>.metric</th><th scope=col>.estimator</th><th scope=col>mean</th><th scope=col>n</th><th scope=col>std_err</th><th scope=col>.config</th></tr>\n",
       "\t<tr><th scope=col>&lt;int&gt;</th><th scope=col>&lt;chr&gt;</th><th scope=col>&lt;chr&gt;</th><th scope=col>&lt;dbl&gt;</th><th scope=col>&lt;int&gt;</th><th scope=col>&lt;dbl&gt;</th><th scope=col>&lt;chr&gt;</th></tr>\n",
       "</thead>\n",
       "<tbody>\n",
       "\t<tr><td> 1</td><td>accuracy</td><td>multiclass</td><td>0.7596923</td><td>5</td><td>0.030709172</td><td>Preprocessor1_Model01</td></tr>\n",
       "\t<tr><td> 2</td><td>accuracy</td><td>multiclass</td><td>0.7753846</td><td>5</td><td>0.027212728</td><td>Preprocessor1_Model02</td></tr>\n",
       "\t<tr><td> 3</td><td>accuracy</td><td>multiclass</td><td>0.7673846</td><td>5</td><td>0.016195185</td><td>Preprocessor1_Model03</td></tr>\n",
       "\t<tr><td> 4</td><td>accuracy</td><td>multiclass</td><td>0.8061538</td><td>5</td><td>0.021980357</td><td>Preprocessor1_Model04</td></tr>\n",
       "\t<tr><td> 5</td><td>accuracy</td><td>multiclass</td><td>0.7901538</td><td>5</td><td>0.029365479</td><td>Preprocessor1_Model05</td></tr>\n",
       "\t<tr><td> 6</td><td>accuracy</td><td>multiclass</td><td>0.8252308</td><td>5</td><td>0.022719540</td><td>Preprocessor1_Model06</td></tr>\n",
       "\t<tr><td> 7</td><td>accuracy</td><td>multiclass</td><td>0.8213846</td><td>5</td><td>0.012565568</td><td>Preprocessor1_Model07</td></tr>\n",
       "\t<tr><td> 8</td><td>accuracy</td><td>multiclass</td><td>0.8332308</td><td>5</td><td>0.008149491</td><td>Preprocessor1_Model08</td></tr>\n",
       "\t<tr><td> 9</td><td>accuracy</td><td>multiclass</td><td>0.8370769</td><td>5</td><td>0.013417290</td><td>Preprocessor1_Model09</td></tr>\n",
       "\t<tr><td>10</td><td>accuracy</td><td>multiclass</td><td>0.8370769</td><td>5</td><td>0.011959992</td><td>Preprocessor1_Model10</td></tr>\n",
       "\t<tr><td>11</td><td>accuracy</td><td>multiclass</td><td>0.8524615</td><td>5</td><td>0.012397270</td><td>Preprocessor1_Model11</td></tr>\n",
       "\t<tr><td>12</td><td>accuracy</td><td>multiclass</td><td>0.8332308</td><td>5</td><td>0.013317693</td><td>Preprocessor1_Model12</td></tr>\n",
       "\t<tr><td>13</td><td>accuracy</td><td>multiclass</td><td>0.8409231</td><td>5</td><td>0.010066054</td><td>Preprocessor1_Model13</td></tr>\n",
       "\t<tr><td>14</td><td>accuracy</td><td>multiclass</td><td>0.8447692</td><td>5</td><td>0.009444325</td><td>Preprocessor1_Model14</td></tr>\n",
       "\t<tr><td>15</td><td>accuracy</td><td>multiclass</td><td>0.8447692</td><td>5</td><td>0.009444325</td><td>Preprocessor1_Model15</td></tr>\n",
       "\t<tr><td>16</td><td>accuracy</td><td>multiclass</td><td>0.8409231</td><td>5</td><td>0.011760429</td><td>Preprocessor1_Model16</td></tr>\n",
       "\t<tr><td>17</td><td>accuracy</td><td>multiclass</td><td>0.8409231</td><td>5</td><td>0.011760429</td><td>Preprocessor1_Model17</td></tr>\n",
       "\t<tr><td>18</td><td>accuracy</td><td>multiclass</td><td>0.8332308</td><td>5</td><td>0.010168404</td><td>Preprocessor1_Model18</td></tr>\n",
       "\t<tr><td>19</td><td>accuracy</td><td>multiclass</td><td>0.8409231</td><td>5</td><td>0.011760429</td><td>Preprocessor1_Model19</td></tr>\n",
       "\t<tr><td>20</td><td>accuracy</td><td>multiclass</td><td>0.8292308</td><td>5</td><td>0.012077168</td><td>Preprocessor1_Model20</td></tr>\n",
       "\t<tr><td>21</td><td>accuracy</td><td>multiclass</td><td>0.8332308</td><td>5</td><td>0.010168404</td><td>Preprocessor1_Model21</td></tr>\n",
       "\t<tr><td>22</td><td>accuracy</td><td>multiclass</td><td>0.8292308</td><td>5</td><td>0.012077168</td><td>Preprocessor1_Model22</td></tr>\n",
       "\t<tr><td>23</td><td>accuracy</td><td>multiclass</td><td>0.8369231</td><td>5</td><td>0.014005493</td><td>Preprocessor1_Model23</td></tr>\n",
       "\t<tr><td>24</td><td>accuracy</td><td>multiclass</td><td>0.8369231</td><td>5</td><td>0.014005493</td><td>Preprocessor1_Model24</td></tr>\n",
       "\t<tr><td>25</td><td>accuracy</td><td>multiclass</td><td>0.8409231</td><td>5</td><td>0.011760429</td><td>Preprocessor1_Model25</td></tr>\n",
       "\t<tr><td>26</td><td>accuracy</td><td>multiclass</td><td>0.8369231</td><td>5</td><td>0.014005493</td><td>Preprocessor1_Model26</td></tr>\n",
       "\t<tr><td>27</td><td>accuracy</td><td>multiclass</td><td>0.8369231</td><td>5</td><td>0.014005493</td><td>Preprocessor1_Model27</td></tr>\n",
       "\t<tr><td>28</td><td>accuracy</td><td>multiclass</td><td>0.8369231</td><td>5</td><td>0.014005493</td><td>Preprocessor1_Model28</td></tr>\n",
       "\t<tr><td>29</td><td>accuracy</td><td>multiclass</td><td>0.8332308</td><td>5</td><td>0.013317693</td><td>Preprocessor1_Model29</td></tr>\n",
       "\t<tr><td>30</td><td>accuracy</td><td>multiclass</td><td>0.8409231</td><td>5</td><td>0.011760429</td><td>Preprocessor1_Model30</td></tr>\n",
       "\t<tr><td>31</td><td>accuracy</td><td>multiclass</td><td>0.8329231</td><td>5</td><td>0.018972730</td><td>Preprocessor1_Model31</td></tr>\n",
       "\t<tr><td>32</td><td>accuracy</td><td>multiclass</td><td>0.8213846</td><td>5</td><td>0.015226884</td><td>Preprocessor1_Model32</td></tr>\n",
       "\t<tr><td>33</td><td>accuracy</td><td>multiclass</td><td>0.8213846</td><td>5</td><td>0.019488124</td><td>Preprocessor1_Model33</td></tr>\n",
       "\t<tr><td>34</td><td>accuracy</td><td>multiclass</td><td>0.8135385</td><td>5</td><td>0.017032166</td><td>Preprocessor1_Model34</td></tr>\n",
       "\t<tr><td>35</td><td>accuracy</td><td>multiclass</td><td>0.8096923</td><td>5</td><td>0.023979281</td><td>Preprocessor1_Model35</td></tr>\n",
       "\t<tr><td>36</td><td>accuracy</td><td>multiclass</td><td>0.8058462</td><td>5</td><td>0.021111987</td><td>Preprocessor1_Model36</td></tr>\n",
       "\t<tr><td>37</td><td>accuracy</td><td>multiclass</td><td>0.8061538</td><td>5</td><td>0.021122354</td><td>Preprocessor1_Model37</td></tr>\n",
       "\t<tr><td>38</td><td>accuracy</td><td>multiclass</td><td>0.8023077</td><td>5</td><td>0.017608497</td><td>Preprocessor1_Model38</td></tr>\n",
       "\t<tr><td>39</td><td>accuracy</td><td>multiclass</td><td>0.7907692</td><td>5</td><td>0.008904490</td><td>Preprocessor1_Model39</td></tr>\n",
       "\t<tr><td>40</td><td>accuracy</td><td>multiclass</td><td>0.7869231</td><td>5</td><td>0.007844645</td><td>Preprocessor1_Model40</td></tr>\n",
       "</tbody>\n",
       "</table>\n"
      ],
      "text/latex": [
       "A tibble: 40 × 7\n",
       "\\begin{tabular}{lllllll}\n",
       " neighbors & .metric & .estimator & mean & n & std\\_err & .config\\\\\n",
       " <int> & <chr> & <chr> & <dbl> & <int> & <dbl> & <chr>\\\\\n",
       "\\hline\n",
       "\t  1 & accuracy & multiclass & 0.7596923 & 5 & 0.030709172 & Preprocessor1\\_Model01\\\\\n",
       "\t  2 & accuracy & multiclass & 0.7753846 & 5 & 0.027212728 & Preprocessor1\\_Model02\\\\\n",
       "\t  3 & accuracy & multiclass & 0.7673846 & 5 & 0.016195185 & Preprocessor1\\_Model03\\\\\n",
       "\t  4 & accuracy & multiclass & 0.8061538 & 5 & 0.021980357 & Preprocessor1\\_Model04\\\\\n",
       "\t  5 & accuracy & multiclass & 0.7901538 & 5 & 0.029365479 & Preprocessor1\\_Model05\\\\\n",
       "\t  6 & accuracy & multiclass & 0.8252308 & 5 & 0.022719540 & Preprocessor1\\_Model06\\\\\n",
       "\t  7 & accuracy & multiclass & 0.8213846 & 5 & 0.012565568 & Preprocessor1\\_Model07\\\\\n",
       "\t  8 & accuracy & multiclass & 0.8332308 & 5 & 0.008149491 & Preprocessor1\\_Model08\\\\\n",
       "\t  9 & accuracy & multiclass & 0.8370769 & 5 & 0.013417290 & Preprocessor1\\_Model09\\\\\n",
       "\t 10 & accuracy & multiclass & 0.8370769 & 5 & 0.011959992 & Preprocessor1\\_Model10\\\\\n",
       "\t 11 & accuracy & multiclass & 0.8524615 & 5 & 0.012397270 & Preprocessor1\\_Model11\\\\\n",
       "\t 12 & accuracy & multiclass & 0.8332308 & 5 & 0.013317693 & Preprocessor1\\_Model12\\\\\n",
       "\t 13 & accuracy & multiclass & 0.8409231 & 5 & 0.010066054 & Preprocessor1\\_Model13\\\\\n",
       "\t 14 & accuracy & multiclass & 0.8447692 & 5 & 0.009444325 & Preprocessor1\\_Model14\\\\\n",
       "\t 15 & accuracy & multiclass & 0.8447692 & 5 & 0.009444325 & Preprocessor1\\_Model15\\\\\n",
       "\t 16 & accuracy & multiclass & 0.8409231 & 5 & 0.011760429 & Preprocessor1\\_Model16\\\\\n",
       "\t 17 & accuracy & multiclass & 0.8409231 & 5 & 0.011760429 & Preprocessor1\\_Model17\\\\\n",
       "\t 18 & accuracy & multiclass & 0.8332308 & 5 & 0.010168404 & Preprocessor1\\_Model18\\\\\n",
       "\t 19 & accuracy & multiclass & 0.8409231 & 5 & 0.011760429 & Preprocessor1\\_Model19\\\\\n",
       "\t 20 & accuracy & multiclass & 0.8292308 & 5 & 0.012077168 & Preprocessor1\\_Model20\\\\\n",
       "\t 21 & accuracy & multiclass & 0.8332308 & 5 & 0.010168404 & Preprocessor1\\_Model21\\\\\n",
       "\t 22 & accuracy & multiclass & 0.8292308 & 5 & 0.012077168 & Preprocessor1\\_Model22\\\\\n",
       "\t 23 & accuracy & multiclass & 0.8369231 & 5 & 0.014005493 & Preprocessor1\\_Model23\\\\\n",
       "\t 24 & accuracy & multiclass & 0.8369231 & 5 & 0.014005493 & Preprocessor1\\_Model24\\\\\n",
       "\t 25 & accuracy & multiclass & 0.8409231 & 5 & 0.011760429 & Preprocessor1\\_Model25\\\\\n",
       "\t 26 & accuracy & multiclass & 0.8369231 & 5 & 0.014005493 & Preprocessor1\\_Model26\\\\\n",
       "\t 27 & accuracy & multiclass & 0.8369231 & 5 & 0.014005493 & Preprocessor1\\_Model27\\\\\n",
       "\t 28 & accuracy & multiclass & 0.8369231 & 5 & 0.014005493 & Preprocessor1\\_Model28\\\\\n",
       "\t 29 & accuracy & multiclass & 0.8332308 & 5 & 0.013317693 & Preprocessor1\\_Model29\\\\\n",
       "\t 30 & accuracy & multiclass & 0.8409231 & 5 & 0.011760429 & Preprocessor1\\_Model30\\\\\n",
       "\t 31 & accuracy & multiclass & 0.8329231 & 5 & 0.018972730 & Preprocessor1\\_Model31\\\\\n",
       "\t 32 & accuracy & multiclass & 0.8213846 & 5 & 0.015226884 & Preprocessor1\\_Model32\\\\\n",
       "\t 33 & accuracy & multiclass & 0.8213846 & 5 & 0.019488124 & Preprocessor1\\_Model33\\\\\n",
       "\t 34 & accuracy & multiclass & 0.8135385 & 5 & 0.017032166 & Preprocessor1\\_Model34\\\\\n",
       "\t 35 & accuracy & multiclass & 0.8096923 & 5 & 0.023979281 & Preprocessor1\\_Model35\\\\\n",
       "\t 36 & accuracy & multiclass & 0.8058462 & 5 & 0.021111987 & Preprocessor1\\_Model36\\\\\n",
       "\t 37 & accuracy & multiclass & 0.8061538 & 5 & 0.021122354 & Preprocessor1\\_Model37\\\\\n",
       "\t 38 & accuracy & multiclass & 0.8023077 & 5 & 0.017608497 & Preprocessor1\\_Model38\\\\\n",
       "\t 39 & accuracy & multiclass & 0.7907692 & 5 & 0.008904490 & Preprocessor1\\_Model39\\\\\n",
       "\t 40 & accuracy & multiclass & 0.7869231 & 5 & 0.007844645 & Preprocessor1\\_Model40\\\\\n",
       "\\end{tabular}\n"
      ],
      "text/markdown": [
       "\n",
       "A tibble: 40 × 7\n",
       "\n",
       "| neighbors &lt;int&gt; | .metric &lt;chr&gt; | .estimator &lt;chr&gt; | mean &lt;dbl&gt; | n &lt;int&gt; | std_err &lt;dbl&gt; | .config &lt;chr&gt; |\n",
       "|---|---|---|---|---|---|---|\n",
       "|  1 | accuracy | multiclass | 0.7596923 | 5 | 0.030709172 | Preprocessor1_Model01 |\n",
       "|  2 | accuracy | multiclass | 0.7753846 | 5 | 0.027212728 | Preprocessor1_Model02 |\n",
       "|  3 | accuracy | multiclass | 0.7673846 | 5 | 0.016195185 | Preprocessor1_Model03 |\n",
       "|  4 | accuracy | multiclass | 0.8061538 | 5 | 0.021980357 | Preprocessor1_Model04 |\n",
       "|  5 | accuracy | multiclass | 0.7901538 | 5 | 0.029365479 | Preprocessor1_Model05 |\n",
       "|  6 | accuracy | multiclass | 0.8252308 | 5 | 0.022719540 | Preprocessor1_Model06 |\n",
       "|  7 | accuracy | multiclass | 0.8213846 | 5 | 0.012565568 | Preprocessor1_Model07 |\n",
       "|  8 | accuracy | multiclass | 0.8332308 | 5 | 0.008149491 | Preprocessor1_Model08 |\n",
       "|  9 | accuracy | multiclass | 0.8370769 | 5 | 0.013417290 | Preprocessor1_Model09 |\n",
       "| 10 | accuracy | multiclass | 0.8370769 | 5 | 0.011959992 | Preprocessor1_Model10 |\n",
       "| 11 | accuracy | multiclass | 0.8524615 | 5 | 0.012397270 | Preprocessor1_Model11 |\n",
       "| 12 | accuracy | multiclass | 0.8332308 | 5 | 0.013317693 | Preprocessor1_Model12 |\n",
       "| 13 | accuracy | multiclass | 0.8409231 | 5 | 0.010066054 | Preprocessor1_Model13 |\n",
       "| 14 | accuracy | multiclass | 0.8447692 | 5 | 0.009444325 | Preprocessor1_Model14 |\n",
       "| 15 | accuracy | multiclass | 0.8447692 | 5 | 0.009444325 | Preprocessor1_Model15 |\n",
       "| 16 | accuracy | multiclass | 0.8409231 | 5 | 0.011760429 | Preprocessor1_Model16 |\n",
       "| 17 | accuracy | multiclass | 0.8409231 | 5 | 0.011760429 | Preprocessor1_Model17 |\n",
       "| 18 | accuracy | multiclass | 0.8332308 | 5 | 0.010168404 | Preprocessor1_Model18 |\n",
       "| 19 | accuracy | multiclass | 0.8409231 | 5 | 0.011760429 | Preprocessor1_Model19 |\n",
       "| 20 | accuracy | multiclass | 0.8292308 | 5 | 0.012077168 | Preprocessor1_Model20 |\n",
       "| 21 | accuracy | multiclass | 0.8332308 | 5 | 0.010168404 | Preprocessor1_Model21 |\n",
       "| 22 | accuracy | multiclass | 0.8292308 | 5 | 0.012077168 | Preprocessor1_Model22 |\n",
       "| 23 | accuracy | multiclass | 0.8369231 | 5 | 0.014005493 | Preprocessor1_Model23 |\n",
       "| 24 | accuracy | multiclass | 0.8369231 | 5 | 0.014005493 | Preprocessor1_Model24 |\n",
       "| 25 | accuracy | multiclass | 0.8409231 | 5 | 0.011760429 | Preprocessor1_Model25 |\n",
       "| 26 | accuracy | multiclass | 0.8369231 | 5 | 0.014005493 | Preprocessor1_Model26 |\n",
       "| 27 | accuracy | multiclass | 0.8369231 | 5 | 0.014005493 | Preprocessor1_Model27 |\n",
       "| 28 | accuracy | multiclass | 0.8369231 | 5 | 0.014005493 | Preprocessor1_Model28 |\n",
       "| 29 | accuracy | multiclass | 0.8332308 | 5 | 0.013317693 | Preprocessor1_Model29 |\n",
       "| 30 | accuracy | multiclass | 0.8409231 | 5 | 0.011760429 | Preprocessor1_Model30 |\n",
       "| 31 | accuracy | multiclass | 0.8329231 | 5 | 0.018972730 | Preprocessor1_Model31 |\n",
       "| 32 | accuracy | multiclass | 0.8213846 | 5 | 0.015226884 | Preprocessor1_Model32 |\n",
       "| 33 | accuracy | multiclass | 0.8213846 | 5 | 0.019488124 | Preprocessor1_Model33 |\n",
       "| 34 | accuracy | multiclass | 0.8135385 | 5 | 0.017032166 | Preprocessor1_Model34 |\n",
       "| 35 | accuracy | multiclass | 0.8096923 | 5 | 0.023979281 | Preprocessor1_Model35 |\n",
       "| 36 | accuracy | multiclass | 0.8058462 | 5 | 0.021111987 | Preprocessor1_Model36 |\n",
       "| 37 | accuracy | multiclass | 0.8061538 | 5 | 0.021122354 | Preprocessor1_Model37 |\n",
       "| 38 | accuracy | multiclass | 0.8023077 | 5 | 0.017608497 | Preprocessor1_Model38 |\n",
       "| 39 | accuracy | multiclass | 0.7907692 | 5 | 0.008904490 | Preprocessor1_Model39 |\n",
       "| 40 | accuracy | multiclass | 0.7869231 | 5 | 0.007844645 | Preprocessor1_Model40 |\n",
       "\n"
      ],
      "text/plain": [
       "   neighbors .metric  .estimator mean      n std_err     .config              \n",
       "1   1        accuracy multiclass 0.7596923 5 0.030709172 Preprocessor1_Model01\n",
       "2   2        accuracy multiclass 0.7753846 5 0.027212728 Preprocessor1_Model02\n",
       "3   3        accuracy multiclass 0.7673846 5 0.016195185 Preprocessor1_Model03\n",
       "4   4        accuracy multiclass 0.8061538 5 0.021980357 Preprocessor1_Model04\n",
       "5   5        accuracy multiclass 0.7901538 5 0.029365479 Preprocessor1_Model05\n",
       "6   6        accuracy multiclass 0.8252308 5 0.022719540 Preprocessor1_Model06\n",
       "7   7        accuracy multiclass 0.8213846 5 0.012565568 Preprocessor1_Model07\n",
       "8   8        accuracy multiclass 0.8332308 5 0.008149491 Preprocessor1_Model08\n",
       "9   9        accuracy multiclass 0.8370769 5 0.013417290 Preprocessor1_Model09\n",
       "10 10        accuracy multiclass 0.8370769 5 0.011959992 Preprocessor1_Model10\n",
       "11 11        accuracy multiclass 0.8524615 5 0.012397270 Preprocessor1_Model11\n",
       "12 12        accuracy multiclass 0.8332308 5 0.013317693 Preprocessor1_Model12\n",
       "13 13        accuracy multiclass 0.8409231 5 0.010066054 Preprocessor1_Model13\n",
       "14 14        accuracy multiclass 0.8447692 5 0.009444325 Preprocessor1_Model14\n",
       "15 15        accuracy multiclass 0.8447692 5 0.009444325 Preprocessor1_Model15\n",
       "16 16        accuracy multiclass 0.8409231 5 0.011760429 Preprocessor1_Model16\n",
       "17 17        accuracy multiclass 0.8409231 5 0.011760429 Preprocessor1_Model17\n",
       "18 18        accuracy multiclass 0.8332308 5 0.010168404 Preprocessor1_Model18\n",
       "19 19        accuracy multiclass 0.8409231 5 0.011760429 Preprocessor1_Model19\n",
       "20 20        accuracy multiclass 0.8292308 5 0.012077168 Preprocessor1_Model20\n",
       "21 21        accuracy multiclass 0.8332308 5 0.010168404 Preprocessor1_Model21\n",
       "22 22        accuracy multiclass 0.8292308 5 0.012077168 Preprocessor1_Model22\n",
       "23 23        accuracy multiclass 0.8369231 5 0.014005493 Preprocessor1_Model23\n",
       "24 24        accuracy multiclass 0.8369231 5 0.014005493 Preprocessor1_Model24\n",
       "25 25        accuracy multiclass 0.8409231 5 0.011760429 Preprocessor1_Model25\n",
       "26 26        accuracy multiclass 0.8369231 5 0.014005493 Preprocessor1_Model26\n",
       "27 27        accuracy multiclass 0.8369231 5 0.014005493 Preprocessor1_Model27\n",
       "28 28        accuracy multiclass 0.8369231 5 0.014005493 Preprocessor1_Model28\n",
       "29 29        accuracy multiclass 0.8332308 5 0.013317693 Preprocessor1_Model29\n",
       "30 30        accuracy multiclass 0.8409231 5 0.011760429 Preprocessor1_Model30\n",
       "31 31        accuracy multiclass 0.8329231 5 0.018972730 Preprocessor1_Model31\n",
       "32 32        accuracy multiclass 0.8213846 5 0.015226884 Preprocessor1_Model32\n",
       "33 33        accuracy multiclass 0.8213846 5 0.019488124 Preprocessor1_Model33\n",
       "34 34        accuracy multiclass 0.8135385 5 0.017032166 Preprocessor1_Model34\n",
       "35 35        accuracy multiclass 0.8096923 5 0.023979281 Preprocessor1_Model35\n",
       "36 36        accuracy multiclass 0.8058462 5 0.021111987 Preprocessor1_Model36\n",
       "37 37        accuracy multiclass 0.8061538 5 0.021122354 Preprocessor1_Model37\n",
       "38 38        accuracy multiclass 0.8023077 5 0.017608497 Preprocessor1_Model38\n",
       "39 39        accuracy multiclass 0.7907692 5 0.008904490 Preprocessor1_Model39\n",
       "40 40        accuracy multiclass 0.7869231 5 0.007844645 Preprocessor1_Model40"
      ]
     },
     "metadata": {},
     "output_type": "display_data"
    }
   ],
   "source": [
    "set.seed(102)\n",
    "# Create a 5-fold cross validation object\n",
    "user_vfold <- vfold_cv(user_train, v = 5, strata = UNS)\n",
    "\n",
    "# Create a recipe for the training set and standardize the data\n",
    "user_recipe <- recipe(UNS ~ PEG, SCG, STG, LPR, data = user_train) |>\n",
    "    step_scale(all_predictors()) |>\n",
    "    step_center(all_predictors())\n",
    "\n",
    "# Create a knn model specification\n",
    " knn_spec <- nearest_neighbor(weight_func = \"rectangular\", neighbors = tune()) |>\n",
    "     set_engine(\"kknn\") |>\n",
    "     set_mode(\"classification\")\n",
    "\n",
    "# Fit the knn model into a workflow with a range of possible K values\n",
    " k_vals <- tibble(neighbors = seq (from = 1, to = 40))\n",
    "                \n",
    " knn_results <- workflow() |>\n",
    "     add_recipe(user_recipe) |>\n",
    "     add_model(knn_spec) |>\n",
    "     tune_grid(resamples = user_vfold, grid = k_vals) |>\n",
    "    collect_metrics() |>\n",
    "    filter(.metric == \"accuracy\")\n",
    "\n",
    "knn_results"
   ]
  },
  {
   "cell_type": "code",
   "execution_count": 106,
   "id": "9961618a-83da-441c-b978-1cef9b53cfc7",
   "metadata": {},
   "outputs": [
    {
     "data": {
      "image/png": "[encoded data removed]",
      "text/plain": [
       "plot without title"
      ]
     },
     "metadata": {
      "image/png": {
       "height": 420,
       "width": 420
      }
     },
     "output_type": "display_data"
    }
   ],
   "source": [
    "set.seed(102)\n",
    "accuracies_plot <- knn_results |>\n",
    "    ggplot( aes (y=mean, x=neighbors)) +\n",
    "    geom_point() +\n",
    "    geom_line () +\n",
    "    labs (x= \"K value\", y= \"Accuracy\") +\n",
    "    theme(text = element_text(size = 15))\n",
    "\n",
    "accuracies_plot"
   ]
  },
  {
   "cell_type": "markdown",
   "id": "a9c694c4-6c66-40d5-b60a-be6344ef7352",
   "metadata": {},
   "source": [
    "From the graph, we can see that the most accurate K value is 11. "
   ]
  },
  {
   "cell_type": "code",
   "execution_count": 107,
   "id": "0e278550-6621-4588-b6c6-c8ed30bfc45e",
   "metadata": {},
   "outputs": [
    {
     "data": {
      "text/html": [
       "<table class=\"dataframe\">\n",
       "<caption>A tibble: 1 × 2</caption>\n",
       "<thead>\n",
       "\t<tr><th scope=col>neighbors</th><th scope=col>mean</th></tr>\n",
       "\t<tr><th scope=col>&lt;int&gt;</th><th scope=col>&lt;dbl&gt;</th></tr>\n",
       "</thead>\n",
       "<tbody>\n",
       "\t<tr><td>11</td><td>0.8524615</td></tr>\n",
       "</tbody>\n",
       "</table>\n"
      ],
      "text/latex": [
       "A tibble: 1 × 2\n",
       "\\begin{tabular}{ll}\n",
       " neighbors & mean\\\\\n",
       " <int> & <dbl>\\\\\n",
       "\\hline\n",
       "\t 11 & 0.8524615\\\\\n",
       "\\end{tabular}\n"
      ],
      "text/markdown": [
       "\n",
       "A tibble: 1 × 2\n",
       "\n",
       "| neighbors &lt;int&gt; | mean &lt;dbl&gt; |\n",
       "|---|---|\n",
       "| 11 | 0.8524615 |\n",
       "\n"
      ],
      "text/plain": [
       "  neighbors mean     \n",
       "1 11        0.8524615"
      ]
     },
     "metadata": {},
     "output_type": "display_data"
    }
   ],
   "source": [
    "set.seed(102)\n",
    "knn_accuracy <- knn_results |>\n",
    "    select(neighbors, mean) |>\n",
    "    arrange(desc(mean)) |>\n",
    "    slice(1)\n",
    "\n",
    "knn_accuracy"
   ]
  },
  {
   "cell_type": "markdown",
   "id": "a9657f84-726e-4226-97ae-191e015d9d6e",
   "metadata": {},
   "source": [
    "Now that we have selected the most accurate K value, we will evaluate the accuracy of the chosen K."
   ]
  },
  {
   "cell_type": "code",
   "execution_count": 113,
   "id": "066a8ef4-0989-431c-bfc6-1ef46324aed8",
   "metadata": {},
   "outputs": [
    {
     "data": {
      "text/html": [
       "<table class=\"dataframe\">\n",
       "<caption>A tibble: 6 × 7</caption>\n",
       "<thead>\n",
       "\t<tr><th scope=col>.pred_class</th><th scope=col>STG</th><th scope=col>SCG</th><th scope=col>STR</th><th scope=col>LPR</th><th scope=col>PEG</th><th scope=col>UNS</th></tr>\n",
       "\t<tr><th scope=col>&lt;fct&gt;</th><th scope=col>&lt;dbl&gt;</th><th scope=col>&lt;dbl&gt;</th><th scope=col>&lt;dbl&gt;</th><th scope=col>&lt;dbl&gt;</th><th scope=col>&lt;dbl&gt;</th><th scope=col>&lt;fct&gt;</th></tr>\n",
       "</thead>\n",
       "<tbody>\n",
       "\t<tr><td>very_low</td><td>0.00</td><td>0.10</td><td>0.50</td><td>0.26</td><td>0.05</td><td>very_low</td></tr>\n",
       "\t<tr><td>very_low</td><td>0.16</td><td>0.25</td><td>0.01</td><td>0.10</td><td>0.07</td><td>very_low</td></tr>\n",
       "\t<tr><td>very_low</td><td>0.18</td><td>0.26</td><td>0.05</td><td>0.40</td><td>0.04</td><td>very_low</td></tr>\n",
       "\t<tr><td>very_low</td><td>0.10</td><td>0.27</td><td>0.35</td><td>0.45</td><td>0.05</td><td>very_low</td></tr>\n",
       "\t<tr><td>very_low</td><td>0.00</td><td>0.25</td><td>0.50</td><td>0.09</td><td>0.07</td><td>very_low</td></tr>\n",
       "\t<tr><td>very_low</td><td>0.20</td><td>0.25</td><td>0.70</td><td>0.25</td><td>0.03</td><td>very_low</td></tr>\n",
       "</tbody>\n",
       "</table>\n"
      ],
      "text/latex": [
       "A tibble: 6 × 7\n",
       "\\begin{tabular}{lllllll}\n",
       " .pred\\_class & STG & SCG & STR & LPR & PEG & UNS\\\\\n",
       " <fct> & <dbl> & <dbl> & <dbl> & <dbl> & <dbl> & <fct>\\\\\n",
       "\\hline\n",
       "\t very\\_low & 0.00 & 0.10 & 0.50 & 0.26 & 0.05 & very\\_low\\\\\n",
       "\t very\\_low & 0.16 & 0.25 & 0.01 & 0.10 & 0.07 & very\\_low\\\\\n",
       "\t very\\_low & 0.18 & 0.26 & 0.05 & 0.40 & 0.04 & very\\_low\\\\\n",
       "\t very\\_low & 0.10 & 0.27 & 0.35 & 0.45 & 0.05 & very\\_low\\\\\n",
       "\t very\\_low & 0.00 & 0.25 & 0.50 & 0.09 & 0.07 & very\\_low\\\\\n",
       "\t very\\_low & 0.20 & 0.25 & 0.70 & 0.25 & 0.03 & very\\_low\\\\\n",
       "\\end{tabular}\n"
      ],
      "text/markdown": [
       "\n",
       "A tibble: 6 × 7\n",
       "\n",
       "| .pred_class &lt;fct&gt; | STG &lt;dbl&gt; | SCG &lt;dbl&gt; | STR &lt;dbl&gt; | LPR &lt;dbl&gt; | PEG &lt;dbl&gt; | UNS &lt;fct&gt; |\n",
       "|---|---|---|---|---|---|---|\n",
       "| very_low | 0.00 | 0.10 | 0.50 | 0.26 | 0.05 | very_low |\n",
       "| very_low | 0.16 | 0.25 | 0.01 | 0.10 | 0.07 | very_low |\n",
       "| very_low | 0.18 | 0.26 | 0.05 | 0.40 | 0.04 | very_low |\n",
       "| very_low | 0.10 | 0.27 | 0.35 | 0.45 | 0.05 | very_low |\n",
       "| very_low | 0.00 | 0.25 | 0.50 | 0.09 | 0.07 | very_low |\n",
       "| very_low | 0.20 | 0.25 | 0.70 | 0.25 | 0.03 | very_low |\n",
       "\n"
      ],
      "text/plain": [
       "  .pred_class STG  SCG  STR  LPR  PEG  UNS     \n",
       "1 very_low    0.00 0.10 0.50 0.26 0.05 very_low\n",
       "2 very_low    0.16 0.25 0.01 0.10 0.07 very_low\n",
       "3 very_low    0.18 0.26 0.05 0.40 0.04 very_low\n",
       "4 very_low    0.10 0.27 0.35 0.45 0.05 very_low\n",
       "5 very_low    0.00 0.25 0.50 0.09 0.07 very_low\n",
       "6 very_low    0.20 0.25 0.70 0.25 0.03 very_low"
      ]
     },
     "metadata": {},
     "output_type": "display_data"
    },
    {
     "data": {
      "text/html": [
       "<table class=\"dataframe\">\n",
       "<caption>A tibble: 1 × 3</caption>\n",
       "<thead>\n",
       "\t<tr><th scope=col>.metric</th><th scope=col>.estimator</th><th scope=col>.estimate</th></tr>\n",
       "\t<tr><th scope=col>&lt;chr&gt;</th><th scope=col>&lt;chr&gt;</th><th scope=col>&lt;dbl&gt;</th></tr>\n",
       "</thead>\n",
       "<tbody>\n",
       "\t<tr><td>accuracy</td><td>multiclass</td><td>0.8689655</td></tr>\n",
       "</tbody>\n",
       "</table>\n"
      ],
      "text/latex": [
       "A tibble: 1 × 3\n",
       "\\begin{tabular}{lll}\n",
       " .metric & .estimator & .estimate\\\\\n",
       " <chr> & <chr> & <dbl>\\\\\n",
       "\\hline\n",
       "\t accuracy & multiclass & 0.8689655\\\\\n",
       "\\end{tabular}\n"
      ],
      "text/markdown": [
       "\n",
       "A tibble: 1 × 3\n",
       "\n",
       "| .metric &lt;chr&gt; | .estimator &lt;chr&gt; | .estimate &lt;dbl&gt; |\n",
       "|---|---|---|\n",
       "| accuracy | multiclass | 0.8689655 |\n",
       "\n"
      ],
      "text/plain": [
       "  .metric  .estimator .estimate\n",
       "1 accuracy multiclass 0.8689655"
      ]
     },
     "metadata": {},
     "output_type": "display_data"
    },
    {
     "data": {
      "text/plain": [
       "          Truth\n",
       "Prediction very_low Low Middle High\n",
       "  very_low       21   0      0    0\n",
       "  Low             5  45      9    0\n",
       "  Middle          0   1     25    4\n",
       "  High            0   0      0   35"
      ]
     },
     "metadata": {},
     "output_type": "display_data"
    }
   ],
   "source": [
    "set.seed(102)\n",
    "\n",
    "# Assign the chosen K value to an object \n",
    "k_min <- knn_accuracy |>\n",
    "     pull(neighbors)\n",
    "\n",
    "# Create a knn model specification \n",
    "knn_spec <- nearest_neighbor(weight_func = \"rectangular\", neighbors = k_min) |>\n",
    "  set_engine(\"kknn\") |>\n",
    "  set_mode(\"classification\")\n",
    "\n",
    "# Fit the knn model into a workflow \n",
    "knn_fit <- workflow() |>\n",
    "  add_recipe(user_recipe) |>\n",
    "  add_model(knn_spec) |>\n",
    "  fit(data = user_train)\n",
    "\n",
    "# Evaluate the accuracy of the chosen K \n",
    "user_summary <- knn_fit |>\n",
    "   predict(user_test) |>\n",
    "   bind_cols(user_test)\n",
    "head(user_summary)\n",
    "\n",
    "accuracy <- user_summary |>\n",
    "    metrics(truth = UNS, estimate = .pred_class) |>\n",
    "    filter(.metric == \"accuracy\")\n",
    "accuracy\n",
    "\n",
    "conf_mat <- user_summary |>\n",
    "    conf_mat(truth = UNS, estimate = .pred_class)\n",
    "conf_mat"
   ]
  },
  {
   "cell_type": "code",
   "execution_count": null,
   "id": "22856358-71e0-499c-8f1a-7fab9c679b84",
   "metadata": {},
   "outputs": [],
   "source": []
  }
 ],
 "metadata": {
  "kernelspec": {
   "display_name": "R",
   "language": "R",
   "name": "ir"
  },
  "language_info": {
   "codemirror_mode": "r",
   "file_extension": ".r",
   "mimetype": "text/x-r-source",
   "name": "R",
   "pygments_lexer": "r",
   "version": "4.1.3"
  }
 },
 "nbformat": 4,
 "nbformat_minor": 5
}
