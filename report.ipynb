{
 "cells": [
  {
   "cell_type": "markdown",
   "id": "2bd9a107-91db-4d76-930a-ed1d353dad4a",
   "metadata": {},
   "source": [
    "# User Knowledge Modeling Data Analysis: Group07 Project Proposal"
   ]
  },
  {
   "cell_type": "markdown",
   "id": "3182fd20-40c8-4089-a19c-ef1bf0d108c8",
   "metadata": {},
   "source": [
    "# Introduction:\n",
    "\n",
    "Electrical Direct Current Machines (DC) are machines that convert electrical energy into mechanical energy. The User Knowledge Modeling Data Set describes the students' knowledge level on the subject of Electrical DC Machines. They are important as they are used in common household appliances. Therefore, improving the learning and teaching of these machines by studying students’ knowledge of them is valuable.\n",
    "\n",
    "The data set include three sheets: Information, Training_Data, and Test_Data. Sheet 1 includes the description of this data set,  such as characteristics, class distribution, and attribute information. \n",
    "Sheet 2 and 3 include five columns:\n",
    "  - `STG` (dbl): degree of study time for goal object materials\n",
    "  - `SCG`(dbl): degree of repetition number of user for goal object materials\n",
    "  - `STR`(dbl):  degree of study time of the user for related objects with goal object\n",
    "  - `LPR`(dbl): exam performance of user for related objects with goal object\n",
    "  - `PEG`(dbl): exam performance of users for goal objects\n",
    "  - `UNS`(char): knowledge level of user, classified into four categories: very low, low, middle, and high.\n",
    "  \n",
    "Using K-nearest neighbor algorithm, we’ll be predicting a categorical class for an observation given other known variables, a method known as classification.\n",
    "\n",
    "Our predictive question: “What would a future user’s knowledge level based on the five user attributes?”"
   ]
  },
  {
   "cell_type": "code",
   "execution_count": 124,
   "id": "c31536a9-9403-464f-adab-1985e4407734",
   "metadata": {},
   "outputs": [
    {
     "name": "stderr",
     "output_type": "stream",
     "text": [
      "\u001b[1m\u001b[22mNew names:\n",
      "\u001b[36m•\u001b[39m `` -> `...7`\n",
      "\u001b[36m•\u001b[39m `` -> `...8`\n"
     ]
    },
    {
     "data": {
      "text/html": [
       "<table class=\"dataframe\">\n",
       "<caption>A tibble: 6 × 9</caption>\n",
       "<thead>\n",
       "\t<tr><th scope=col>STG</th><th scope=col>SCG</th><th scope=col>STR</th><th scope=col>LPR</th><th scope=col>PEG</th><th scope=col>UNS</th><th scope=col>...7</th><th scope=col>...8</th><th scope=col>Attribute Information:</th></tr>\n",
       "\t<tr><th scope=col>&lt;dbl&gt;</th><th scope=col>&lt;dbl&gt;</th><th scope=col>&lt;dbl&gt;</th><th scope=col>&lt;dbl&gt;</th><th scope=col>&lt;dbl&gt;</th><th scope=col>&lt;chr&gt;</th><th scope=col>&lt;lgl&gt;</th><th scope=col>&lt;lgl&gt;</th><th scope=col>&lt;chr&gt;</th></tr>\n",
       "</thead>\n",
       "<tbody>\n",
       "\t<tr><td>0.00</td><td>0.00</td><td>0.00</td><td>0.00</td><td>0.00</td><td>very_low</td><td>NA</td><td>NA</td><td>STG (The degree of study time for goal object materails),                  </td></tr>\n",
       "\t<tr><td>0.08</td><td>0.08</td><td>0.10</td><td>0.24</td><td>0.90</td><td>High    </td><td>NA</td><td>NA</td><td>SCG (The degree of repetition number of user for goal object materails)    </td></tr>\n",
       "\t<tr><td>0.06</td><td>0.06</td><td>0.05</td><td>0.25</td><td>0.33</td><td>Low     </td><td>NA</td><td>NA</td><td>STR (The degree of study time of user for related objects with goal object)</td></tr>\n",
       "\t<tr><td>0.10</td><td>0.10</td><td>0.15</td><td>0.65</td><td>0.30</td><td>Middle  </td><td>NA</td><td>NA</td><td>LPR (The exam performance of user for related objects with goal object)    </td></tr>\n",
       "\t<tr><td>0.08</td><td>0.08</td><td>0.08</td><td>0.98</td><td>0.24</td><td>Low     </td><td>NA</td><td>NA</td><td>PEG (The exam performance of user for goal objects)                        </td></tr>\n",
       "\t<tr><td>0.09</td><td>0.15</td><td>0.40</td><td>0.10</td><td>0.66</td><td>Middle  </td><td>NA</td><td>NA</td><td>UNS (The knowledge level of user)                                          </td></tr>\n",
       "</tbody>\n",
       "</table>\n"
      ],
      "text/latex": [
       "A tibble: 6 × 9\n",
       "\\begin{tabular}{lllllllll}\n",
       " STG & SCG & STR & LPR & PEG & UNS & ...7 & ...8 & Attribute Information:\\\\\n",
       " <dbl> & <dbl> & <dbl> & <dbl> & <dbl> & <chr> & <lgl> & <lgl> & <chr>\\\\\n",
       "\\hline\n",
       "\t 0.00 & 0.00 & 0.00 & 0.00 & 0.00 & very\\_low & NA & NA & STG (The degree of study time for goal object materails),                  \\\\\n",
       "\t 0.08 & 0.08 & 0.10 & 0.24 & 0.90 & High     & NA & NA & SCG (The degree of repetition number of user for goal object materails)    \\\\\n",
       "\t 0.06 & 0.06 & 0.05 & 0.25 & 0.33 & Low      & NA & NA & STR (The degree of study time of user for related objects with goal object)\\\\\n",
       "\t 0.10 & 0.10 & 0.15 & 0.65 & 0.30 & Middle   & NA & NA & LPR (The exam performance of user for related objects with goal object)    \\\\\n",
       "\t 0.08 & 0.08 & 0.08 & 0.98 & 0.24 & Low      & NA & NA & PEG (The exam performance of user for goal objects)                        \\\\\n",
       "\t 0.09 & 0.15 & 0.40 & 0.10 & 0.66 & Middle   & NA & NA & UNS (The knowledge level of user)                                          \\\\\n",
       "\\end{tabular}\n"
      ],
      "text/markdown": [
       "\n",
       "A tibble: 6 × 9\n",
       "\n",
       "| STG &lt;dbl&gt; | SCG &lt;dbl&gt; | STR &lt;dbl&gt; | LPR &lt;dbl&gt; | PEG &lt;dbl&gt; | UNS &lt;chr&gt; | ...7 &lt;lgl&gt; | ...8 &lt;lgl&gt; | Attribute Information: &lt;chr&gt; |\n",
       "|---|---|---|---|---|---|---|---|---|\n",
       "| 0.00 | 0.00 | 0.00 | 0.00 | 0.00 | very_low | NA | NA | STG (The degree of study time for goal object materails),                   |\n",
       "| 0.08 | 0.08 | 0.10 | 0.24 | 0.90 | High     | NA | NA | SCG (The degree of repetition number of user for goal object materails)     |\n",
       "| 0.06 | 0.06 | 0.05 | 0.25 | 0.33 | Low      | NA | NA | STR (The degree of study time of user for related objects with goal object) |\n",
       "| 0.10 | 0.10 | 0.15 | 0.65 | 0.30 | Middle   | NA | NA | LPR (The exam performance of user for related objects with goal object)     |\n",
       "| 0.08 | 0.08 | 0.08 | 0.98 | 0.24 | Low      | NA | NA | PEG (The exam performance of user for goal objects)                         |\n",
       "| 0.09 | 0.15 | 0.40 | 0.10 | 0.66 | Middle   | NA | NA | UNS (The knowledge level of user)                                           |\n",
       "\n"
      ],
      "text/plain": [
       "  STG  SCG  STR  LPR  PEG  UNS      ...7 ...8\n",
       "1 0.00 0.00 0.00 0.00 0.00 very_low NA   NA  \n",
       "2 0.08 0.08 0.10 0.24 0.90 High     NA   NA  \n",
       "3 0.06 0.06 0.05 0.25 0.33 Low      NA   NA  \n",
       "4 0.10 0.10 0.15 0.65 0.30 Middle   NA   NA  \n",
       "5 0.08 0.08 0.08 0.98 0.24 Low      NA   NA  \n",
       "6 0.09 0.15 0.40 0.10 0.66 Middle   NA   NA  \n",
       "  Attribute Information:                                                     \n",
       "1 STG (The degree of study time for goal object materails),                  \n",
       "2 SCG (The degree of repetition number of user for goal object materails)    \n",
       "3 STR (The degree of study time of user for related objects with goal object)\n",
       "4 LPR (The exam performance of user for related objects with goal object)    \n",
       "5 PEG (The exam performance of user for goal objects)                        \n",
       "6 UNS (The knowledge level of user)                                          "
      ]
     },
     "metadata": {},
     "output_type": "display_data"
    }
   ],
   "source": [
    "set.seed(102)\n",
    "library(tidyverse)\n",
    "library(readxl)\n",
    "library(dplyr)\n",
    "library(tidymodels)\n",
    "set.seed(102)\n",
    "\n",
    "# read the dataset into R\n",
    "url <- \"https://archive.ics.uci.edu/ml/machine-learning-databases/00257/Data_User_Modeling_Dataset_Hamdi%20Tolga%20KAHRAMAN.xls\"\n",
    "download.file(url, destfile = \"user.xls\")\n",
    "messy_user_data <- read_excel(\"user.xls\", sheet = 2)\n",
    "head(messy_user_data) # to show the first 6 observations in this dataframe"
   ]
  },
  {
   "cell_type": "code",
   "execution_count": 125,
   "id": "0ef7dc2a-462a-422d-93a5-5586a4a4f8e7",
   "metadata": {},
   "outputs": [
    {
     "data": {
      "text/html": [
       "<table class=\"dataframe\">\n",
       "<caption>A tibble: 6 × 6</caption>\n",
       "<thead>\n",
       "\t<tr><th scope=col>STG</th><th scope=col>SCG</th><th scope=col>STR</th><th scope=col>LPR</th><th scope=col>PEG</th><th scope=col>UNS</th></tr>\n",
       "\t<tr><th scope=col>&lt;dbl&gt;</th><th scope=col>&lt;dbl&gt;</th><th scope=col>&lt;dbl&gt;</th><th scope=col>&lt;dbl&gt;</th><th scope=col>&lt;dbl&gt;</th><th scope=col>&lt;fct&gt;</th></tr>\n",
       "</thead>\n",
       "<tbody>\n",
       "\t<tr><td>0.00</td><td>0.00</td><td>0.00</td><td>0.00</td><td>0.00</td><td>very_low</td></tr>\n",
       "\t<tr><td>0.08</td><td>0.08</td><td>0.10</td><td>0.24</td><td>0.90</td><td>High    </td></tr>\n",
       "\t<tr><td>0.06</td><td>0.06</td><td>0.05</td><td>0.25</td><td>0.33</td><td>Low     </td></tr>\n",
       "\t<tr><td>0.10</td><td>0.10</td><td>0.15</td><td>0.65</td><td>0.30</td><td>Middle  </td></tr>\n",
       "\t<tr><td>0.08</td><td>0.08</td><td>0.08</td><td>0.98</td><td>0.24</td><td>Low     </td></tr>\n",
       "\t<tr><td>0.09</td><td>0.15</td><td>0.40</td><td>0.10</td><td>0.66</td><td>Middle  </td></tr>\n",
       "</tbody>\n",
       "</table>\n"
      ],
      "text/latex": [
       "A tibble: 6 × 6\n",
       "\\begin{tabular}{llllll}\n",
       " STG & SCG & STR & LPR & PEG & UNS\\\\\n",
       " <dbl> & <dbl> & <dbl> & <dbl> & <dbl> & <fct>\\\\\n",
       "\\hline\n",
       "\t 0.00 & 0.00 & 0.00 & 0.00 & 0.00 & very\\_low\\\\\n",
       "\t 0.08 & 0.08 & 0.10 & 0.24 & 0.90 & High    \\\\\n",
       "\t 0.06 & 0.06 & 0.05 & 0.25 & 0.33 & Low     \\\\\n",
       "\t 0.10 & 0.10 & 0.15 & 0.65 & 0.30 & Middle  \\\\\n",
       "\t 0.08 & 0.08 & 0.08 & 0.98 & 0.24 & Low     \\\\\n",
       "\t 0.09 & 0.15 & 0.40 & 0.10 & 0.66 & Middle  \\\\\n",
       "\\end{tabular}\n"
      ],
      "text/markdown": [
       "\n",
       "A tibble: 6 × 6\n",
       "\n",
       "| STG &lt;dbl&gt; | SCG &lt;dbl&gt; | STR &lt;dbl&gt; | LPR &lt;dbl&gt; | PEG &lt;dbl&gt; | UNS &lt;fct&gt; |\n",
       "|---|---|---|---|---|---|\n",
       "| 0.00 | 0.00 | 0.00 | 0.00 | 0.00 | very_low |\n",
       "| 0.08 | 0.08 | 0.10 | 0.24 | 0.90 | High     |\n",
       "| 0.06 | 0.06 | 0.05 | 0.25 | 0.33 | Low      |\n",
       "| 0.10 | 0.10 | 0.15 | 0.65 | 0.30 | Middle   |\n",
       "| 0.08 | 0.08 | 0.08 | 0.98 | 0.24 | Low      |\n",
       "| 0.09 | 0.15 | 0.40 | 0.10 | 0.66 | Middle   |\n",
       "\n"
      ],
      "text/plain": [
       "  STG  SCG  STR  LPR  PEG  UNS     \n",
       "1 0.00 0.00 0.00 0.00 0.00 very_low\n",
       "2 0.08 0.08 0.10 0.24 0.90 High    \n",
       "3 0.06 0.06 0.05 0.25 0.33 Low     \n",
       "4 0.10 0.10 0.15 0.65 0.30 Middle  \n",
       "5 0.08 0.08 0.08 0.98 0.24 Low     \n",
       "6 0.09 0.15 0.40 0.10 0.66 Middle  "
      ]
     },
     "metadata": {},
     "output_type": "display_data"
    }
   ],
   "source": [
    "set.seed(102)\n",
    "# Clean and wrangle the data into a tidy format\n",
    "user_data <- messy_user_data |>\n",
    "    select(STG: UNS) |>\n",
    "    mutate(UNS = as_factor(UNS))\n",
    "head(user_data) # to show the first 6 observations in this dataframe"
   ]
  },
  {
   "cell_type": "code",
   "execution_count": null,
   "id": "a3570ece-114e-451e-8435-4b55e6aa3142",
   "metadata": {},
   "outputs": [],
   "source": []
  },
  {
   "cell_type": "markdown",
   "id": "9f03a20d-557d-4f2c-ac96-222048bb66cf",
   "metadata": {},
   "source": [
    "We will not be needing to perform the initial split because our original data set has already been split into a training and test set. Earlier, we loaded sheet 2, which was the training data set. Here, we will rename the data set we read into R earlier to user_train and load the test data set from sheet 3."
   ]
  },
  {
   "cell_type": "code",
   "execution_count": 126,
   "id": "6f30245c-2325-48da-b35f-8b5bf1c64474",
   "metadata": {},
   "outputs": [],
   "source": [
    "set.seed(102)\n",
    "# Rename user_data to user_train\n",
    "user_train<-user_data"
   ]
  },
  {
   "cell_type": "code",
   "execution_count": 127,
   "id": "4d4c725a-c03d-4bd3-b539-d0d6ffcc567d",
   "metadata": {},
   "outputs": [
    {
     "name": "stderr",
     "output_type": "stream",
     "text": [
      "\u001b[1m\u001b[22mNew names:\n",
      "\u001b[36m•\u001b[39m `` -> `...7`\n",
      "\u001b[36m•\u001b[39m `` -> `...8`\n"
     ]
    },
    {
     "data": {
      "text/html": [
       "<table class=\"dataframe\">\n",
       "<caption>A tibble: 6 × 9</caption>\n",
       "<thead>\n",
       "\t<tr><th scope=col>STG</th><th scope=col>SCG</th><th scope=col>STR</th><th scope=col>LPR</th><th scope=col>PEG</th><th scope=col>UNS</th><th scope=col>...7</th><th scope=col>...8</th><th scope=col>Attribute Information:</th></tr>\n",
       "\t<tr><th scope=col>&lt;dbl&gt;</th><th scope=col>&lt;dbl&gt;</th><th scope=col>&lt;dbl&gt;</th><th scope=col>&lt;dbl&gt;</th><th scope=col>&lt;dbl&gt;</th><th scope=col>&lt;chr&gt;</th><th scope=col>&lt;lgl&gt;</th><th scope=col>&lt;lgl&gt;</th><th scope=col>&lt;chr&gt;</th></tr>\n",
       "</thead>\n",
       "<tbody>\n",
       "\t<tr><td>0.00</td><td>0.10</td><td>0.50</td><td>0.26</td><td>0.05</td><td>Very Low</td><td>NA</td><td>NA</td><td>STG (The degree of study time for goal object materails),                  </td></tr>\n",
       "\t<tr><td>0.05</td><td>0.05</td><td>0.55</td><td>0.60</td><td>0.14</td><td>Low     </td><td>NA</td><td>NA</td><td>SCG (The degree of repetition number of user for goal object materails)    </td></tr>\n",
       "\t<tr><td>0.08</td><td>0.18</td><td>0.63</td><td>0.60</td><td>0.85</td><td>High    </td><td>NA</td><td>NA</td><td>STR (The degree of study time of user for related objects with goal object)</td></tr>\n",
       "\t<tr><td>0.20</td><td>0.20</td><td>0.68</td><td>0.67</td><td>0.85</td><td>High    </td><td>NA</td><td>NA</td><td>LPR (The exam performance of user for related objects with goal object)    </td></tr>\n",
       "\t<tr><td>0.22</td><td>0.22</td><td>0.90</td><td>0.30</td><td>0.90</td><td>High    </td><td>NA</td><td>NA</td><td>PEG (The exam performance of user for goal objects)                        </td></tr>\n",
       "\t<tr><td>0.14</td><td>0.14</td><td>0.70</td><td>0.50</td><td>0.30</td><td>Low     </td><td>NA</td><td>NA</td><td>UNS (The knowledge level of user)                                          </td></tr>\n",
       "</tbody>\n",
       "</table>\n"
      ],
      "text/latex": [
       "A tibble: 6 × 9\n",
       "\\begin{tabular}{lllllllll}\n",
       " STG & SCG & STR & LPR & PEG & UNS & ...7 & ...8 & Attribute Information:\\\\\n",
       " <dbl> & <dbl> & <dbl> & <dbl> & <dbl> & <chr> & <lgl> & <lgl> & <chr>\\\\\n",
       "\\hline\n",
       "\t 0.00 & 0.10 & 0.50 & 0.26 & 0.05 & Very Low & NA & NA & STG (The degree of study time for goal object materails),                  \\\\\n",
       "\t 0.05 & 0.05 & 0.55 & 0.60 & 0.14 & Low      & NA & NA & SCG (The degree of repetition number of user for goal object materails)    \\\\\n",
       "\t 0.08 & 0.18 & 0.63 & 0.60 & 0.85 & High     & NA & NA & STR (The degree of study time of user for related objects with goal object)\\\\\n",
       "\t 0.20 & 0.20 & 0.68 & 0.67 & 0.85 & High     & NA & NA & LPR (The exam performance of user for related objects with goal object)    \\\\\n",
       "\t 0.22 & 0.22 & 0.90 & 0.30 & 0.90 & High     & NA & NA & PEG (The exam performance of user for goal objects)                        \\\\\n",
       "\t 0.14 & 0.14 & 0.70 & 0.50 & 0.30 & Low      & NA & NA & UNS (The knowledge level of user)                                          \\\\\n",
       "\\end{tabular}\n"
      ],
      "text/markdown": [
       "\n",
       "A tibble: 6 × 9\n",
       "\n",
       "| STG &lt;dbl&gt; | SCG &lt;dbl&gt; | STR &lt;dbl&gt; | LPR &lt;dbl&gt; | PEG &lt;dbl&gt; | UNS &lt;chr&gt; | ...7 &lt;lgl&gt; | ...8 &lt;lgl&gt; | Attribute Information: &lt;chr&gt; |\n",
       "|---|---|---|---|---|---|---|---|---|\n",
       "| 0.00 | 0.10 | 0.50 | 0.26 | 0.05 | Very Low | NA | NA | STG (The degree of study time for goal object materails),                   |\n",
       "| 0.05 | 0.05 | 0.55 | 0.60 | 0.14 | Low      | NA | NA | SCG (The degree of repetition number of user for goal object materails)     |\n",
       "| 0.08 | 0.18 | 0.63 | 0.60 | 0.85 | High     | NA | NA | STR (The degree of study time of user for related objects with goal object) |\n",
       "| 0.20 | 0.20 | 0.68 | 0.67 | 0.85 | High     | NA | NA | LPR (The exam performance of user for related objects with goal object)     |\n",
       "| 0.22 | 0.22 | 0.90 | 0.30 | 0.90 | High     | NA | NA | PEG (The exam performance of user for goal objects)                         |\n",
       "| 0.14 | 0.14 | 0.70 | 0.50 | 0.30 | Low      | NA | NA | UNS (The knowledge level of user)                                           |\n",
       "\n"
      ],
      "text/plain": [
       "  STG  SCG  STR  LPR  PEG  UNS      ...7 ...8\n",
       "1 0.00 0.10 0.50 0.26 0.05 Very Low NA   NA  \n",
       "2 0.05 0.05 0.55 0.60 0.14 Low      NA   NA  \n",
       "3 0.08 0.18 0.63 0.60 0.85 High     NA   NA  \n",
       "4 0.20 0.20 0.68 0.67 0.85 High     NA   NA  \n",
       "5 0.22 0.22 0.90 0.30 0.90 High     NA   NA  \n",
       "6 0.14 0.14 0.70 0.50 0.30 Low      NA   NA  \n",
       "  Attribute Information:                                                     \n",
       "1 STG (The degree of study time for goal object materails),                  \n",
       "2 SCG (The degree of repetition number of user for goal object materails)    \n",
       "3 STR (The degree of study time of user for related objects with goal object)\n",
       "4 LPR (The exam performance of user for related objects with goal object)    \n",
       "5 PEG (The exam performance of user for goal objects)                        \n",
       "6 UNS (The knowledge level of user)                                          "
      ]
     },
     "metadata": {},
     "output_type": "display_data"
    }
   ],
   "source": [
    "set.seed(102)\n",
    "# Read the test dataset into R\n",
    "url <- \"https://archive.ics.uci.edu/ml/machine-learning-databases/00257/Data_User_Modeling_Dataset_Hamdi%20Tolga%20KAHRAMAN.xls\"\n",
    "download.file(url, destfile = \"user.xls\")\n",
    "messy_user_test <- read_excel(\"user.xls\", sheet = 3)\n",
    "head(messy_user_test) # to show the first 6 observations in this dataframe"
   ]
  },
  {
   "cell_type": "code",
   "execution_count": null,
   "id": "83d372f3-387b-46f5-b008-2ba268e9658e",
   "metadata": {},
   "outputs": [],
   "source": []
  },
  {
   "cell_type": "code",
   "execution_count": 128,
   "id": "dd3fd715-1310-4343-9346-0bdb6e59dc02",
   "metadata": {},
   "outputs": [
    {
     "data": {
      "text/html": [
       "<table class=\"dataframe\">\n",
       "<caption>A tibble: 6 × 6</caption>\n",
       "<thead>\n",
       "\t<tr><th scope=col>STG</th><th scope=col>SCG</th><th scope=col>STR</th><th scope=col>LPR</th><th scope=col>PEG</th><th scope=col>UNS</th></tr>\n",
       "\t<tr><th scope=col>&lt;dbl&gt;</th><th scope=col>&lt;dbl&gt;</th><th scope=col>&lt;dbl&gt;</th><th scope=col>&lt;dbl&gt;</th><th scope=col>&lt;dbl&gt;</th><th scope=col>&lt;fct&gt;</th></tr>\n",
       "</thead>\n",
       "<tbody>\n",
       "\t<tr><td>0.00</td><td>0.10</td><td>0.50</td><td>0.26</td><td>0.05</td><td>very_low</td></tr>\n",
       "\t<tr><td>0.05</td><td>0.05</td><td>0.55</td><td>0.60</td><td>0.14</td><td>High    </td></tr>\n",
       "\t<tr><td>0.08</td><td>0.18</td><td>0.63</td><td>0.60</td><td>0.85</td><td>Low     </td></tr>\n",
       "\t<tr><td>0.20</td><td>0.20</td><td>0.68</td><td>0.67</td><td>0.85</td><td>Low     </td></tr>\n",
       "\t<tr><td>0.22</td><td>0.22</td><td>0.90</td><td>0.30</td><td>0.90</td><td>Low     </td></tr>\n",
       "\t<tr><td>0.14</td><td>0.14</td><td>0.70</td><td>0.50</td><td>0.30</td><td>High    </td></tr>\n",
       "</tbody>\n",
       "</table>\n"
      ],
      "text/latex": [
       "A tibble: 6 × 6\n",
       "\\begin{tabular}{llllll}\n",
       " STG & SCG & STR & LPR & PEG & UNS\\\\\n",
       " <dbl> & <dbl> & <dbl> & <dbl> & <dbl> & <fct>\\\\\n",
       "\\hline\n",
       "\t 0.00 & 0.10 & 0.50 & 0.26 & 0.05 & very\\_low\\\\\n",
       "\t 0.05 & 0.05 & 0.55 & 0.60 & 0.14 & High    \\\\\n",
       "\t 0.08 & 0.18 & 0.63 & 0.60 & 0.85 & Low     \\\\\n",
       "\t 0.20 & 0.20 & 0.68 & 0.67 & 0.85 & Low     \\\\\n",
       "\t 0.22 & 0.22 & 0.90 & 0.30 & 0.90 & Low     \\\\\n",
       "\t 0.14 & 0.14 & 0.70 & 0.50 & 0.30 & High    \\\\\n",
       "\\end{tabular}\n"
      ],
      "text/markdown": [
       "\n",
       "A tibble: 6 × 6\n",
       "\n",
       "| STG &lt;dbl&gt; | SCG &lt;dbl&gt; | STR &lt;dbl&gt; | LPR &lt;dbl&gt; | PEG &lt;dbl&gt; | UNS &lt;fct&gt; |\n",
       "|---|---|---|---|---|---|\n",
       "| 0.00 | 0.10 | 0.50 | 0.26 | 0.05 | very_low |\n",
       "| 0.05 | 0.05 | 0.55 | 0.60 | 0.14 | High     |\n",
       "| 0.08 | 0.18 | 0.63 | 0.60 | 0.85 | Low      |\n",
       "| 0.20 | 0.20 | 0.68 | 0.67 | 0.85 | Low      |\n",
       "| 0.22 | 0.22 | 0.90 | 0.30 | 0.90 | Low      |\n",
       "| 0.14 | 0.14 | 0.70 | 0.50 | 0.30 | High     |\n",
       "\n"
      ],
      "text/plain": [
       "  STG  SCG  STR  LPR  PEG  UNS     \n",
       "1 0.00 0.10 0.50 0.26 0.05 very_low\n",
       "2 0.05 0.05 0.55 0.60 0.14 High    \n",
       "3 0.08 0.18 0.63 0.60 0.85 Low     \n",
       "4 0.20 0.20 0.68 0.67 0.85 Low     \n",
       "5 0.22 0.22 0.90 0.30 0.90 Low     \n",
       "6 0.14 0.14 0.70 0.50 0.30 High    "
      ]
     },
     "metadata": {},
     "output_type": "display_data"
    },
    {
     "data": {
      "text/html": [
       "<style>\n",
       ".list-inline {list-style: none; margin:0; padding: 0}\n",
       ".list-inline>li {display: inline-block}\n",
       ".list-inline>li:not(:last-child)::after {content: \"\\00b7\"; padding: 0 .5ex}\n",
       "</style>\n",
       "<ol class=list-inline><li>'very_low'</li><li>'Low'</li><li>'Middle'</li><li>'High'</li></ol>\n"
      ],
      "text/latex": [
       "\\begin{enumerate*}\n",
       "\\item 'very\\_low'\n",
       "\\item 'Low'\n",
       "\\item 'Middle'\n",
       "\\item 'High'\n",
       "\\end{enumerate*}\n"
      ],
      "text/markdown": [
       "1. 'very_low'\n",
       "2. 'Low'\n",
       "3. 'Middle'\n",
       "4. 'High'\n",
       "\n",
       "\n"
      ],
      "text/plain": [
       "[1] \"very_low\" \"Low\"      \"Middle\"   \"High\"    "
      ]
     },
     "metadata": {},
     "output_type": "display_data"
    },
    {
     "data": {
      "text/html": [
       "<style>\n",
       ".list-inline {list-style: none; margin:0; padding: 0}\n",
       ".list-inline>li {display: inline-block}\n",
       ".list-inline>li:not(:last-child)::after {content: \"\\00b7\"; padding: 0 .5ex}\n",
       "</style>\n",
       "<ol class=list-inline><li>'very_low'</li><li>'Low'</li><li>'Middle'</li><li>'High'</li></ol>\n"
      ],
      "text/latex": [
       "\\begin{enumerate*}\n",
       "\\item 'very\\_low'\n",
       "\\item 'Low'\n",
       "\\item 'Middle'\n",
       "\\item 'High'\n",
       "\\end{enumerate*}\n"
      ],
      "text/markdown": [
       "1. 'very_low'\n",
       "2. 'Low'\n",
       "3. 'Middle'\n",
       "4. 'High'\n",
       "\n",
       "\n"
      ],
      "text/plain": [
       "[1] \"very_low\" \"Low\"      \"Middle\"   \"High\"    "
      ]
     },
     "metadata": {},
     "output_type": "display_data"
    }
   ],
   "source": [
    "set.seed(102)\n",
    "# Clean and wrangle the data into a tidy format\n",
    "user_test <- messy_user_test |>\n",
    "    select(STG: UNS) |>\n",
    "    mutate(UNS = as_factor(UNS))\n",
    "levels(user_test$UNS) <- levels(user_train$UNS)\n",
    "head(user_test) # to show the first 6 observations in this dataframe\n",
    "user_train$UNS <-factor(user_train$UNS, \n",
    "                       levels = c('very_low', 'Low', 'Middle','High'), \n",
    "                       ordered = TRUE)\n",
    "user_test$UNS <-factor(user_test$UNS, \n",
    "                       levels = c('very_low', 'Low', 'Middle','High'), \n",
    "                       ordered = TRUE)\n",
    "levels(user_train$UNS)\n",
    "levels(user_test$UNS)"
   ]
  },
  {
   "cell_type": "markdown",
   "id": "cadf5d5a-1437-4ef3-932c-833ef6d7f704",
   "metadata": {},
   "source": [
    "Now that we have our training and testing dataset, we will put our test dataset away for now while we tune our model in order to choose the best value of K."
   ]
  },
  {
   "cell_type": "code",
   "execution_count": null,
   "id": "5c3cf63c-8bf7-48f7-8d11-558da2472e41",
   "metadata": {},
   "outputs": [],
   "source": [
    "set.seed(102)\n",
    "# Create a 5-fold cross validation object\n",
    "user_vfold <- vfold_cv(user_train, v = 5, strata = UNS)\n",
    "\n",
    "# Create a recipe for the training set and standardize the data\n",
    "user_recipe <- recipe(UNS ~ PEG, SCG, STG, LPR, STR, data = user_train) |>\n",
    "    step_scale(all_predictors()) |>\n",
    "    step_center(all_predictors())\n",
    "\n",
    "# Create a knn model specification\n",
    " knn_spec <- nearest_neighbor(weight_func = \"rectangular\", neighbors = tune()) |>\n",
    "     set_engine(\"kknn\") |>\n",
    "     set_mode(\"classification\")\n",
    "\n",
    "# Fit the knn model into a workflow with a range of possible K values\n",
    " k_vals <- tibble(neighbors = seq (from = 1, to = 40))\n",
    "                \n",
    " knn_results <- workflow() |>\n",
    "     add_recipe(user_recipe) |>\n",
    "     add_model(knn_spec) |>\n",
    "     tune_grid(resamples = user_vfold, grid = k_vals) |>\n",
    "    collect_metrics() |>\n",
    "    filter(.metric == \"accuracy\")\n",
    "\n",
    "knn_results"
   ]
  },
  {
   "cell_type": "code",
   "execution_count": null,
   "id": "9961618a-83da-441c-b978-1cef9b53cfc7",
   "metadata": {},
   "outputs": [],
   "source": [
    "set.seed(102)\n",
    "accuracies_plot <- knn_results |>\n",
    "    ggplot( aes (y=mean, x=neighbors)) +\n",
    "    geom_point() +\n",
    "    geom_line () +\n",
    "    labs (x= \"K value\", y= \"Accuracy\") +\n",
    "    theme(text = element_text(size = 15))\n",
    "\n",
    "accuracies_plot"
   ]
  },
  {
   "cell_type": "markdown",
   "id": "a9c694c4-6c66-40d5-b60a-be6344ef7352",
   "metadata": {},
   "source": [
    "From the graph, we can see that the most accurate K value is 11. "
   ]
  },
  {
   "cell_type": "code",
   "execution_count": null,
   "id": "0e278550-6621-4588-b6c6-c8ed30bfc45e",
   "metadata": {},
   "outputs": [],
   "source": [
    "set.seed(102)\n",
    "knn_accuracy <- knn_results |>\n",
    "    select(neighbors, mean) |>\n",
    "    arrange(desc(mean)) |>\n",
    "    slice(1)\n",
    "\n",
    "knn_accuracy"
   ]
  },
  {
   "cell_type": "markdown",
   "id": "a9657f84-726e-4226-97ae-191e015d9d6e",
   "metadata": {},
   "source": [
    "Now that we have selected the most accurate K value, we will evaluate the accuracy of the chosen K."
   ]
  },
  {
   "cell_type": "code",
   "execution_count": null,
   "id": "066a8ef4-0989-431c-bfc6-1ef46324aed8",
   "metadata": {},
   "outputs": [],
   "source": [
    "set.seed(102)\n",
    "\n",
    "# Assign the chosen K value to an object \n",
    "k_min <- knn_accuracy |>\n",
    "     pull(neighbors)\n",
    "\n",
    "# Create a knn model specification \n",
    "knn_spec <- nearest_neighbor(weight_func = \"rectangular\", neighbors = k_min) |>\n",
    "  set_engine(\"kknn\") |>\n",
    "  set_mode(\"classification\")\n",
    "\n",
    "# Fit the knn model into a workflow \n",
    "knn_fit <- workflow() |>\n",
    "  add_recipe(user_recipe) |>\n",
    "  add_model(knn_spec) |>\n",
    "  fit(data = user_train)\n",
    "\n",
    "# Evaluate the accuracy of the chosen K \n",
    " user_summary <- knn_fit |>\n",
    "   predict(user_test) |>\n",
    "   bind_cols(user_test)\n",
    "   # metrics(truth = UNS, estimate = .pred_class)\n",
    "   # filter(.metric == \"accuracy\")\n",
    " user_summary"
   ]
  },
  {
   "cell_type": "code",
   "execution_count": null,
   "id": "1c83c6a8-f174-4e90-a65f-5f8788aa2ec3",
   "metadata": {},
   "outputs": [],
   "source": []
  }
 ],
 "metadata": {
  "kernelspec": {
   "display_name": "R",
   "language": "R",
   "name": "ir"
  },
  "language_info": {
   "codemirror_mode": "r",
   "file_extension": ".r",
   "mimetype": "text/x-r-source",
   "name": "R",
   "pygments_lexer": "r",
   "version": "4.1.3"
  }
 },
 "nbformat": 4,
 "nbformat_minor": 5
}
